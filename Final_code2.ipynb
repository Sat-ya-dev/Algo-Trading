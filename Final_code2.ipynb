{
 "cells": [
  {
   "cell_type": "markdown",
   "id": "1272fcbb-36ec-4ad5-b411-63889a0b81e9",
   "metadata": {},
   "source": [
    "## Steps of code\n",
    "1. Extracting data from tvdatafeed\n",
    "2. Using a statistical approach to generate the labels(1->buy , 0->nothing , -1->sell)\n",
    "3. dividing the data into train and test data\n",
    "4. Training the data\n",
    "5. Comparing the models\n",
    "6. choosing best model\n",
    "7. merge the long and short trades in one file\n",
    "8. Backtesting the result based on the merged file"
   ]
  },
  {
   "cell_type": "markdown",
   "id": "ba636b35-6ffb-4541-9fde-85c139618429",
   "metadata": {},
   "source": [
    "#### Assumptions\n",
    "1. During finding the returns we assume to start the trade on open and sqare off of the trade at the close of trade\n",
    "2. Due to find the solution for the both long and short trades, we are avoiding the stop loss approach till now , buy in future definetly work upon it"
   ]
  },
  {
   "cell_type": "markdown",
   "id": "e628f263-b097-4375-b402-9ea318f4fdf4",
   "metadata": {},
   "source": [
    "## Data Extraction from TradingView using python module tvDatafeed"
   ]
  },
  {
   "cell_type": "code",
   "execution_count": 1,
   "id": "0db093fa-b95b-406b-91ab-951054043292",
   "metadata": {},
   "outputs": [
    {
     "ename": "ModuleNotFoundError",
     "evalue": "No module named 'tvDatafeed'",
     "output_type": "error",
     "traceback": [
      "\u001b[1;31m---------------------------------------------------------------------------\u001b[0m",
      "\u001b[1;31mModuleNotFoundError\u001b[0m                       Traceback (most recent call last)",
      "Cell \u001b[1;32mIn[1], line 1\u001b[0m\n\u001b[1;32m----> 1\u001b[0m \u001b[38;5;28;01mfrom\u001b[39;00m \u001b[38;5;21;01mtvDatafeed\u001b[39;00m \u001b[38;5;28;01mimport\u001b[39;00m TvDatafeed, Interval\n\u001b[0;32m      2\u001b[0m \u001b[38;5;28;01mimport\u001b[39;00m \u001b[38;5;21;01mpandas\u001b[39;00m \u001b[38;5;28;01mas\u001b[39;00m \u001b[38;5;21;01mpd\u001b[39;00m\n",
      "\u001b[1;31mModuleNotFoundError\u001b[0m: No module named 'tvDatafeed'"
     ]
    }
   ],
   "source": [
    "from tvDatafeed import TvDatafeed, Interval\n"
   ]
  },
  {
   "cell_type": "code",
   "execution_count": 2,
   "id": "d847cdc6-ff39-4bc7-9240-b13d21f4fa5a",
   "metadata": {},
   "outputs": [
    {
     "ename": "FileNotFoundError",
     "evalue": "[Errno 2] No such file or directory: 'Credendials.txt'",
     "output_type": "error",
     "traceback": [
      "\u001b[1;31m---------------------------------------------------------------------------\u001b[0m",
      "\u001b[1;31mFileNotFoundError\u001b[0m                         Traceback (most recent call last)",
      "Cell \u001b[1;32mIn[2], line 1\u001b[0m\n\u001b[1;32m----> 1\u001b[0m \u001b[38;5;28;01mwith\u001b[39;00m \u001b[38;5;28mopen\u001b[39m(\u001b[38;5;124m'\u001b[39m\u001b[38;5;124mCredendials.txt\u001b[39m\u001b[38;5;124m'\u001b[39m,\u001b[38;5;124m'\u001b[39m\u001b[38;5;124mr\u001b[39m\u001b[38;5;124m'\u001b[39m) \u001b[38;5;28;01mas\u001b[39;00m file:\n\u001b[0;32m      2\u001b[0m     content \u001b[38;5;241m=\u001b[39m file\u001b[38;5;241m.\u001b[39mread()\u001b[38;5;241m.\u001b[39msplit()\n",
      "File \u001b[1;32m~\\anaconda3\\Lib\\site-packages\\IPython\\core\\interactiveshell.py:284\u001b[0m, in \u001b[0;36m_modified_open\u001b[1;34m(file, *args, **kwargs)\u001b[0m\n\u001b[0;32m    277\u001b[0m \u001b[38;5;28;01mif\u001b[39;00m file \u001b[38;5;129;01min\u001b[39;00m {\u001b[38;5;241m0\u001b[39m, \u001b[38;5;241m1\u001b[39m, \u001b[38;5;241m2\u001b[39m}:\n\u001b[0;32m    278\u001b[0m     \u001b[38;5;28;01mraise\u001b[39;00m \u001b[38;5;167;01mValueError\u001b[39;00m(\n\u001b[0;32m    279\u001b[0m         \u001b[38;5;124mf\u001b[39m\u001b[38;5;124m\"\u001b[39m\u001b[38;5;124mIPython won\u001b[39m\u001b[38;5;124m'\u001b[39m\u001b[38;5;124mt let you open fd=\u001b[39m\u001b[38;5;132;01m{\u001b[39;00mfile\u001b[38;5;132;01m}\u001b[39;00m\u001b[38;5;124m by default \u001b[39m\u001b[38;5;124m\"\u001b[39m\n\u001b[0;32m    280\u001b[0m         \u001b[38;5;124m\"\u001b[39m\u001b[38;5;124mas it is likely to crash IPython. If you know what you are doing, \u001b[39m\u001b[38;5;124m\"\u001b[39m\n\u001b[0;32m    281\u001b[0m         \u001b[38;5;124m\"\u001b[39m\u001b[38;5;124myou can use builtins\u001b[39m\u001b[38;5;124m'\u001b[39m\u001b[38;5;124m open.\u001b[39m\u001b[38;5;124m\"\u001b[39m\n\u001b[0;32m    282\u001b[0m     )\n\u001b[1;32m--> 284\u001b[0m \u001b[38;5;28;01mreturn\u001b[39;00m io_open(file, \u001b[38;5;241m*\u001b[39margs, \u001b[38;5;241m*\u001b[39m\u001b[38;5;241m*\u001b[39mkwargs)\n",
      "\u001b[1;31mFileNotFoundError\u001b[0m: [Errno 2] No such file or directory: 'Credendials.txt'"
     ]
    }
   ],
   "source": [
    "with open('Credendials.txt','r') as file:\n",
    "    content = file.read().split()"
   ]
  },
  {
   "cell_type": "code",
   "execution_count": null,
   "id": "b46fdf9e-1a95-48e9-b843-c901bc4e5ed6",
   "metadata": {},
   "outputs": [],
   "source": [
    "username = content[0]\n",
    "password = content[1]"
   ]
  },
  {
   "cell_type": "code",
   "execution_count": null,
   "id": "b135863a-9f20-45ba-bc12-d3cd5a57e0cb",
   "metadata": {},
   "outputs": [],
   "source": [
    "tv = TvDatafeed(username, password)"
   ]
  },
  {
   "cell_type": "code",
   "execution_count": null,
   "id": "947daf9b-ad76-4266-8abb-d5389e954884",
   "metadata": {},
   "outputs": [],
   "source": [
    "data = tv.get_hist(symbol='BANKNIFTY',exchange='NSE',interval=Interval.in_5_minute,n_bars=10000)"
   ]
  },
  {
   "cell_type": "code",
   "execution_count": null,
   "id": "11ef3fc3-68c4-4280-810f-3262b0fa9812",
   "metadata": {},
   "outputs": [],
   "source": [
    "data.head()"
   ]
  },
  {
   "cell_type": "code",
   "execution_count": null,
   "id": "0bbb75bd-85d9-47b8-8000-9c58e927621e",
   "metadata": {},
   "outputs": [],
   "source": [
    "data.to_csv('BANKNIFTY_till_14thMarch_5min.csv')"
   ]
  },
  {
   "cell_type": "markdown",
   "id": "8d55c5e5-b9f6-4c13-ba2e-8dc26af4937b",
   "metadata": {},
   "source": [
    "### Dividing the data into the training and testing data\n",
    "we won't be able to use 80% or 20% ratio for training and testing data , because it is time series data the data is more related to back data , that is why we won't be able to follow any specific ratio\n",
    "So, Solution for this is the way that result in the dividing the dataset depending that training data is around 80% of the total data and also the dependency is minimal"
   ]
  },
  {
   "cell_type": "code",
   "execution_count": 4,
   "id": "2dab1ebb-a048-43db-8b90-3ceaeef11c40",
   "metadata": {},
   "outputs": [],
   "source": [
    "import pandas as pd\n",
    "final_df = pd.read_csv('Final_data_5min.csv')"
   ]
  },
  {
   "cell_type": "code",
   "execution_count": 5,
   "id": "9c8c4f53-1d60-470b-ae39-eb25e451b082",
   "metadata": {},
   "outputs": [
    {
     "data": {
      "text/plain": [
       "8108"
      ]
     },
     "execution_count": 5,
     "metadata": {},
     "output_type": "execute_result"
    }
   ],
   "source": [
    "len(final_df)"
   ]
  },
  {
   "cell_type": "code",
   "execution_count": 6,
   "id": "280c3d41",
   "metadata": {},
   "outputs": [],
   "source": [
    "# the value in the below cell 6509 is given to the approx value of 80%, not exactly 80% due to the fact that "
   ]
  },
  {
   "cell_type": "code",
   "execution_count": 7,
   "id": "b302e43f-a519-4e73-8900-f22d609d59fa",
   "metadata": {},
   "outputs": [],
   "source": [
    "train_data = final_df.iloc[:6509]"
   ]
  },
  {
   "cell_type": "code",
   "execution_count": 8,
   "id": "b66644df-36e2-4b2f-879c-2c2a1eb77b7b",
   "metadata": {},
   "outputs": [],
   "source": [
    "test_data = final_df.iloc[6509:]"
   ]
  },
  {
   "cell_type": "code",
   "execution_count": 9,
   "id": "2b66eb14",
   "metadata": {},
   "outputs": [
    {
     "data": {
      "text/plain": [
       "1599"
      ]
     },
     "execution_count": 9,
     "metadata": {},
     "output_type": "execute_result"
    }
   ],
   "source": [
    "len(test_data)"
   ]
  },
  {
   "cell_type": "code",
   "execution_count": 10,
   "id": "3385441c-84e9-4dee-ba1f-4899ba752014",
   "metadata": {},
   "outputs": [
    {
     "data": {
      "text/html": [
       "<div>\n",
       "<style scoped>\n",
       "    .dataframe tbody tr th:only-of-type {\n",
       "        vertical-align: middle;\n",
       "    }\n",
       "\n",
       "    .dataframe tbody tr th {\n",
       "        vertical-align: top;\n",
       "    }\n",
       "\n",
       "    .dataframe thead th {\n",
       "        text-align: right;\n",
       "    }\n",
       "</style>\n",
       "<table border=\"1\" class=\"dataframe\">\n",
       "  <thead>\n",
       "    <tr style=\"text-align: right;\">\n",
       "      <th></th>\n",
       "      <th>datetime</th>\n",
       "      <th>symbol</th>\n",
       "      <th>open</th>\n",
       "      <th>high</th>\n",
       "      <th>low</th>\n",
       "      <th>close</th>\n",
       "      <th>volume</th>\n",
       "    </tr>\n",
       "  </thead>\n",
       "  <tbody>\n",
       "    <tr>\n",
       "      <th>6504</th>\n",
       "      <td>2024-02-13 15:05:00</td>\n",
       "      <td>NSE:BANKNIFTY</td>\n",
       "      <td>45504.90</td>\n",
       "      <td>45529.50</td>\n",
       "      <td>45489.25</td>\n",
       "      <td>45521.00</td>\n",
       "      <td>4875497.0</td>\n",
       "    </tr>\n",
       "    <tr>\n",
       "      <th>6505</th>\n",
       "      <td>2024-02-13 15:10:00</td>\n",
       "      <td>NSE:BANKNIFTY</td>\n",
       "      <td>45524.60</td>\n",
       "      <td>45565.95</td>\n",
       "      <td>45501.55</td>\n",
       "      <td>45521.45</td>\n",
       "      <td>5860964.0</td>\n",
       "    </tr>\n",
       "    <tr>\n",
       "      <th>6506</th>\n",
       "      <td>2024-02-13 15:15:00</td>\n",
       "      <td>NSE:BANKNIFTY</td>\n",
       "      <td>45521.95</td>\n",
       "      <td>45564.50</td>\n",
       "      <td>45500.75</td>\n",
       "      <td>45500.75</td>\n",
       "      <td>6589835.0</td>\n",
       "    </tr>\n",
       "    <tr>\n",
       "      <th>6507</th>\n",
       "      <td>2024-02-13 15:20:00</td>\n",
       "      <td>NSE:BANKNIFTY</td>\n",
       "      <td>45506.00</td>\n",
       "      <td>45517.00</td>\n",
       "      <td>45437.25</td>\n",
       "      <td>45453.00</td>\n",
       "      <td>6617515.0</td>\n",
       "    </tr>\n",
       "    <tr>\n",
       "      <th>6508</th>\n",
       "      <td>2024-02-13 15:25:00</td>\n",
       "      <td>NSE:BANKNIFTY</td>\n",
       "      <td>45454.50</td>\n",
       "      <td>45454.50</td>\n",
       "      <td>45383.15</td>\n",
       "      <td>45419.85</td>\n",
       "      <td>4611935.0</td>\n",
       "    </tr>\n",
       "  </tbody>\n",
       "</table>\n",
       "</div>"
      ],
      "text/plain": [
       "                 datetime         symbol      open      high       low  \\\n",
       "6504  2024-02-13 15:05:00  NSE:BANKNIFTY  45504.90  45529.50  45489.25   \n",
       "6505  2024-02-13 15:10:00  NSE:BANKNIFTY  45524.60  45565.95  45501.55   \n",
       "6506  2024-02-13 15:15:00  NSE:BANKNIFTY  45521.95  45564.50  45500.75   \n",
       "6507  2024-02-13 15:20:00  NSE:BANKNIFTY  45506.00  45517.00  45437.25   \n",
       "6508  2024-02-13 15:25:00  NSE:BANKNIFTY  45454.50  45454.50  45383.15   \n",
       "\n",
       "         close     volume  \n",
       "6504  45521.00  4875497.0  \n",
       "6505  45521.45  5860964.0  \n",
       "6506  45500.75  6589835.0  \n",
       "6507  45453.00  6617515.0  \n",
       "6508  45419.85  4611935.0  "
      ]
     },
     "execution_count": 10,
     "metadata": {},
     "output_type": "execute_result"
    }
   ],
   "source": [
    "train_data.tail()"
   ]
  },
  {
   "cell_type": "code",
   "execution_count": 11,
   "id": "a46528a7-696a-4d6e-b223-9397caeb448a",
   "metadata": {},
   "outputs": [
    {
     "data": {
      "text/html": [
       "<div>\n",
       "<style scoped>\n",
       "    .dataframe tbody tr th:only-of-type {\n",
       "        vertical-align: middle;\n",
       "    }\n",
       "\n",
       "    .dataframe tbody tr th {\n",
       "        vertical-align: top;\n",
       "    }\n",
       "\n",
       "    .dataframe thead th {\n",
       "        text-align: right;\n",
       "    }\n",
       "</style>\n",
       "<table border=\"1\" class=\"dataframe\">\n",
       "  <thead>\n",
       "    <tr style=\"text-align: right;\">\n",
       "      <th></th>\n",
       "      <th>datetime</th>\n",
       "      <th>symbol</th>\n",
       "      <th>open</th>\n",
       "      <th>high</th>\n",
       "      <th>low</th>\n",
       "      <th>close</th>\n",
       "      <th>volume</th>\n",
       "    </tr>\n",
       "  </thead>\n",
       "  <tbody>\n",
       "    <tr>\n",
       "      <th>6509</th>\n",
       "      <td>2024-02-14 09:15:00</td>\n",
       "      <td>NSE:BANKNIFTY</td>\n",
       "      <td>45095.45</td>\n",
       "      <td>45140.10</td>\n",
       "      <td>44988.70</td>\n",
       "      <td>45034.30</td>\n",
       "      <td>10394636.0</td>\n",
       "    </tr>\n",
       "    <tr>\n",
       "      <th>6510</th>\n",
       "      <td>2024-02-14 09:20:00</td>\n",
       "      <td>NSE:BANKNIFTY</td>\n",
       "      <td>45030.25</td>\n",
       "      <td>45119.75</td>\n",
       "      <td>44965.75</td>\n",
       "      <td>44987.65</td>\n",
       "      <td>4113601.0</td>\n",
       "    </tr>\n",
       "    <tr>\n",
       "      <th>6511</th>\n",
       "      <td>2024-02-14 09:25:00</td>\n",
       "      <td>NSE:BANKNIFTY</td>\n",
       "      <td>44988.00</td>\n",
       "      <td>44988.00</td>\n",
       "      <td>44880.75</td>\n",
       "      <td>44940.10</td>\n",
       "      <td>6873600.0</td>\n",
       "    </tr>\n",
       "    <tr>\n",
       "      <th>6512</th>\n",
       "      <td>2024-02-14 09:30:00</td>\n",
       "      <td>NSE:BANKNIFTY</td>\n",
       "      <td>44942.65</td>\n",
       "      <td>44951.65</td>\n",
       "      <td>44860.75</td>\n",
       "      <td>44913.85</td>\n",
       "      <td>5835451.0</td>\n",
       "    </tr>\n",
       "    <tr>\n",
       "      <th>6513</th>\n",
       "      <td>2024-02-14 09:35:00</td>\n",
       "      <td>NSE:BANKNIFTY</td>\n",
       "      <td>44912.70</td>\n",
       "      <td>45070.50</td>\n",
       "      <td>44902.85</td>\n",
       "      <td>45059.60</td>\n",
       "      <td>5188373.0</td>\n",
       "    </tr>\n",
       "  </tbody>\n",
       "</table>\n",
       "</div>"
      ],
      "text/plain": [
       "                 datetime         symbol      open      high       low  \\\n",
       "6509  2024-02-14 09:15:00  NSE:BANKNIFTY  45095.45  45140.10  44988.70   \n",
       "6510  2024-02-14 09:20:00  NSE:BANKNIFTY  45030.25  45119.75  44965.75   \n",
       "6511  2024-02-14 09:25:00  NSE:BANKNIFTY  44988.00  44988.00  44880.75   \n",
       "6512  2024-02-14 09:30:00  NSE:BANKNIFTY  44942.65  44951.65  44860.75   \n",
       "6513  2024-02-14 09:35:00  NSE:BANKNIFTY  44912.70  45070.50  44902.85   \n",
       "\n",
       "         close      volume  \n",
       "6509  45034.30  10394636.0  \n",
       "6510  44987.65   4113601.0  \n",
       "6511  44940.10   6873600.0  \n",
       "6512  44913.85   5835451.0  \n",
       "6513  45059.60   5188373.0  "
      ]
     },
     "execution_count": 11,
     "metadata": {},
     "output_type": "execute_result"
    }
   ],
   "source": [
    "test_data.head()"
   ]
  },
  {
   "cell_type": "markdown",
   "id": "8765defd-aaca-4b63-bbac-02d3121d4e67",
   "metadata": {},
   "source": [
    "#### Hence, there is no overlapping in the data between them"
   ]
  },
  {
   "cell_type": "code",
   "execution_count": 12,
   "id": "71f546d0-cbde-4d4a-b9ad-da7800620875",
   "metadata": {},
   "outputs": [
    {
     "ename": "OSError",
     "evalue": "Cannot save file into a non-existent directory: 'Data\\Train'",
     "output_type": "error",
     "traceback": [
      "\u001b[1;31m---------------------------------------------------------------------------\u001b[0m",
      "\u001b[1;31mOSError\u001b[0m                                   Traceback (most recent call last)",
      "Cell \u001b[1;32mIn[12], line 1\u001b[0m\n\u001b[1;32m----> 1\u001b[0m train_data\u001b[38;5;241m.\u001b[39mto_csv(\u001b[38;5;124m'\u001b[39m\u001b[38;5;124mData/Train/train_data.csv\u001b[39m\u001b[38;5;124m'\u001b[39m)\n",
      "File \u001b[1;32m~\\anaconda3\\Lib\\site-packages\\pandas\\util\\_decorators.py:211\u001b[0m, in \u001b[0;36mdeprecate_kwarg.<locals>._deprecate_kwarg.<locals>.wrapper\u001b[1;34m(*args, **kwargs)\u001b[0m\n\u001b[0;32m    209\u001b[0m     \u001b[38;5;28;01melse\u001b[39;00m:\n\u001b[0;32m    210\u001b[0m         kwargs[new_arg_name] \u001b[38;5;241m=\u001b[39m new_arg_value\n\u001b[1;32m--> 211\u001b[0m \u001b[38;5;28;01mreturn\u001b[39;00m func(\u001b[38;5;241m*\u001b[39margs, \u001b[38;5;241m*\u001b[39m\u001b[38;5;241m*\u001b[39mkwargs)\n",
      "File \u001b[1;32m~\\anaconda3\\Lib\\site-packages\\pandas\\core\\generic.py:3720\u001b[0m, in \u001b[0;36mNDFrame.to_csv\u001b[1;34m(self, path_or_buf, sep, na_rep, float_format, columns, header, index, index_label, mode, encoding, compression, quoting, quotechar, lineterminator, chunksize, date_format, doublequote, escapechar, decimal, errors, storage_options)\u001b[0m\n\u001b[0;32m   3709\u001b[0m df \u001b[38;5;241m=\u001b[39m \u001b[38;5;28mself\u001b[39m \u001b[38;5;28;01mif\u001b[39;00m \u001b[38;5;28misinstance\u001b[39m(\u001b[38;5;28mself\u001b[39m, ABCDataFrame) \u001b[38;5;28;01melse\u001b[39;00m \u001b[38;5;28mself\u001b[39m\u001b[38;5;241m.\u001b[39mto_frame()\n\u001b[0;32m   3711\u001b[0m formatter \u001b[38;5;241m=\u001b[39m DataFrameFormatter(\n\u001b[0;32m   3712\u001b[0m     frame\u001b[38;5;241m=\u001b[39mdf,\n\u001b[0;32m   3713\u001b[0m     header\u001b[38;5;241m=\u001b[39mheader,\n\u001b[1;32m   (...)\u001b[0m\n\u001b[0;32m   3717\u001b[0m     decimal\u001b[38;5;241m=\u001b[39mdecimal,\n\u001b[0;32m   3718\u001b[0m )\n\u001b[1;32m-> 3720\u001b[0m \u001b[38;5;28;01mreturn\u001b[39;00m DataFrameRenderer(formatter)\u001b[38;5;241m.\u001b[39mto_csv(\n\u001b[0;32m   3721\u001b[0m     path_or_buf,\n\u001b[0;32m   3722\u001b[0m     lineterminator\u001b[38;5;241m=\u001b[39mlineterminator,\n\u001b[0;32m   3723\u001b[0m     sep\u001b[38;5;241m=\u001b[39msep,\n\u001b[0;32m   3724\u001b[0m     encoding\u001b[38;5;241m=\u001b[39mencoding,\n\u001b[0;32m   3725\u001b[0m     errors\u001b[38;5;241m=\u001b[39merrors,\n\u001b[0;32m   3726\u001b[0m     compression\u001b[38;5;241m=\u001b[39mcompression,\n\u001b[0;32m   3727\u001b[0m     quoting\u001b[38;5;241m=\u001b[39mquoting,\n\u001b[0;32m   3728\u001b[0m     columns\u001b[38;5;241m=\u001b[39mcolumns,\n\u001b[0;32m   3729\u001b[0m     index_label\u001b[38;5;241m=\u001b[39mindex_label,\n\u001b[0;32m   3730\u001b[0m     mode\u001b[38;5;241m=\u001b[39mmode,\n\u001b[0;32m   3731\u001b[0m     chunksize\u001b[38;5;241m=\u001b[39mchunksize,\n\u001b[0;32m   3732\u001b[0m     quotechar\u001b[38;5;241m=\u001b[39mquotechar,\n\u001b[0;32m   3733\u001b[0m     date_format\u001b[38;5;241m=\u001b[39mdate_format,\n\u001b[0;32m   3734\u001b[0m     doublequote\u001b[38;5;241m=\u001b[39mdoublequote,\n\u001b[0;32m   3735\u001b[0m     escapechar\u001b[38;5;241m=\u001b[39mescapechar,\n\u001b[0;32m   3736\u001b[0m     storage_options\u001b[38;5;241m=\u001b[39mstorage_options,\n\u001b[0;32m   3737\u001b[0m )\n",
      "File \u001b[1;32m~\\anaconda3\\Lib\\site-packages\\pandas\\util\\_decorators.py:211\u001b[0m, in \u001b[0;36mdeprecate_kwarg.<locals>._deprecate_kwarg.<locals>.wrapper\u001b[1;34m(*args, **kwargs)\u001b[0m\n\u001b[0;32m    209\u001b[0m     \u001b[38;5;28;01melse\u001b[39;00m:\n\u001b[0;32m    210\u001b[0m         kwargs[new_arg_name] \u001b[38;5;241m=\u001b[39m new_arg_value\n\u001b[1;32m--> 211\u001b[0m \u001b[38;5;28;01mreturn\u001b[39;00m func(\u001b[38;5;241m*\u001b[39margs, \u001b[38;5;241m*\u001b[39m\u001b[38;5;241m*\u001b[39mkwargs)\n",
      "File \u001b[1;32m~\\anaconda3\\Lib\\site-packages\\pandas\\io\\formats\\format.py:1189\u001b[0m, in \u001b[0;36mDataFrameRenderer.to_csv\u001b[1;34m(self, path_or_buf, encoding, sep, columns, index_label, mode, compression, quoting, quotechar, lineterminator, chunksize, date_format, doublequote, escapechar, errors, storage_options)\u001b[0m\n\u001b[0;32m   1168\u001b[0m     created_buffer \u001b[38;5;241m=\u001b[39m \u001b[38;5;28;01mFalse\u001b[39;00m\n\u001b[0;32m   1170\u001b[0m csv_formatter \u001b[38;5;241m=\u001b[39m CSVFormatter(\n\u001b[0;32m   1171\u001b[0m     path_or_buf\u001b[38;5;241m=\u001b[39mpath_or_buf,\n\u001b[0;32m   1172\u001b[0m     lineterminator\u001b[38;5;241m=\u001b[39mlineterminator,\n\u001b[1;32m   (...)\u001b[0m\n\u001b[0;32m   1187\u001b[0m     formatter\u001b[38;5;241m=\u001b[39m\u001b[38;5;28mself\u001b[39m\u001b[38;5;241m.\u001b[39mfmt,\n\u001b[0;32m   1188\u001b[0m )\n\u001b[1;32m-> 1189\u001b[0m csv_formatter\u001b[38;5;241m.\u001b[39msave()\n\u001b[0;32m   1191\u001b[0m \u001b[38;5;28;01mif\u001b[39;00m created_buffer:\n\u001b[0;32m   1192\u001b[0m     \u001b[38;5;28;01massert\u001b[39;00m \u001b[38;5;28misinstance\u001b[39m(path_or_buf, StringIO)\n",
      "File \u001b[1;32m~\\anaconda3\\Lib\\site-packages\\pandas\\io\\formats\\csvs.py:241\u001b[0m, in \u001b[0;36mCSVFormatter.save\u001b[1;34m(self)\u001b[0m\n\u001b[0;32m    237\u001b[0m \u001b[38;5;250m\u001b[39m\u001b[38;5;124;03m\"\"\"\u001b[39;00m\n\u001b[0;32m    238\u001b[0m \u001b[38;5;124;03mCreate the writer & save.\u001b[39;00m\n\u001b[0;32m    239\u001b[0m \u001b[38;5;124;03m\"\"\"\u001b[39;00m\n\u001b[0;32m    240\u001b[0m \u001b[38;5;66;03m# apply compression and byte/text conversion\u001b[39;00m\n\u001b[1;32m--> 241\u001b[0m \u001b[38;5;28;01mwith\u001b[39;00m get_handle(\n\u001b[0;32m    242\u001b[0m     \u001b[38;5;28mself\u001b[39m\u001b[38;5;241m.\u001b[39mfilepath_or_buffer,\n\u001b[0;32m    243\u001b[0m     \u001b[38;5;28mself\u001b[39m\u001b[38;5;241m.\u001b[39mmode,\n\u001b[0;32m    244\u001b[0m     encoding\u001b[38;5;241m=\u001b[39m\u001b[38;5;28mself\u001b[39m\u001b[38;5;241m.\u001b[39mencoding,\n\u001b[0;32m    245\u001b[0m     errors\u001b[38;5;241m=\u001b[39m\u001b[38;5;28mself\u001b[39m\u001b[38;5;241m.\u001b[39merrors,\n\u001b[0;32m    246\u001b[0m     compression\u001b[38;5;241m=\u001b[39m\u001b[38;5;28mself\u001b[39m\u001b[38;5;241m.\u001b[39mcompression,\n\u001b[0;32m    247\u001b[0m     storage_options\u001b[38;5;241m=\u001b[39m\u001b[38;5;28mself\u001b[39m\u001b[38;5;241m.\u001b[39mstorage_options,\n\u001b[0;32m    248\u001b[0m ) \u001b[38;5;28;01mas\u001b[39;00m handles:\n\u001b[0;32m    249\u001b[0m \n\u001b[0;32m    250\u001b[0m     \u001b[38;5;66;03m# Note: self.encoding is irrelevant here\u001b[39;00m\n\u001b[0;32m    251\u001b[0m     \u001b[38;5;28mself\u001b[39m\u001b[38;5;241m.\u001b[39mwriter \u001b[38;5;241m=\u001b[39m csvlib\u001b[38;5;241m.\u001b[39mwriter(\n\u001b[0;32m    252\u001b[0m         handles\u001b[38;5;241m.\u001b[39mhandle,\n\u001b[0;32m    253\u001b[0m         lineterminator\u001b[38;5;241m=\u001b[39m\u001b[38;5;28mself\u001b[39m\u001b[38;5;241m.\u001b[39mlineterminator,\n\u001b[1;32m   (...)\u001b[0m\n\u001b[0;32m    258\u001b[0m         quotechar\u001b[38;5;241m=\u001b[39m\u001b[38;5;28mself\u001b[39m\u001b[38;5;241m.\u001b[39mquotechar,\n\u001b[0;32m    259\u001b[0m     )\n\u001b[0;32m    261\u001b[0m     \u001b[38;5;28mself\u001b[39m\u001b[38;5;241m.\u001b[39m_save()\n",
      "File \u001b[1;32m~\\anaconda3\\Lib\\site-packages\\pandas\\io\\common.py:734\u001b[0m, in \u001b[0;36mget_handle\u001b[1;34m(path_or_buf, mode, encoding, compression, memory_map, is_text, errors, storage_options)\u001b[0m\n\u001b[0;32m    732\u001b[0m \u001b[38;5;66;03m# Only for write methods\u001b[39;00m\n\u001b[0;32m    733\u001b[0m \u001b[38;5;28;01mif\u001b[39;00m \u001b[38;5;124m\"\u001b[39m\u001b[38;5;124mr\u001b[39m\u001b[38;5;124m\"\u001b[39m \u001b[38;5;129;01mnot\u001b[39;00m \u001b[38;5;129;01min\u001b[39;00m mode \u001b[38;5;129;01mand\u001b[39;00m is_path:\n\u001b[1;32m--> 734\u001b[0m     check_parent_directory(\u001b[38;5;28mstr\u001b[39m(handle))\n\u001b[0;32m    736\u001b[0m \u001b[38;5;28;01mif\u001b[39;00m compression:\n\u001b[0;32m    737\u001b[0m     \u001b[38;5;28;01mif\u001b[39;00m compression \u001b[38;5;241m!=\u001b[39m \u001b[38;5;124m\"\u001b[39m\u001b[38;5;124mzstd\u001b[39m\u001b[38;5;124m\"\u001b[39m:\n\u001b[0;32m    738\u001b[0m         \u001b[38;5;66;03m# compression libraries do not like an explicit text-mode\u001b[39;00m\n",
      "File \u001b[1;32m~\\anaconda3\\Lib\\site-packages\\pandas\\io\\common.py:597\u001b[0m, in \u001b[0;36mcheck_parent_directory\u001b[1;34m(path)\u001b[0m\n\u001b[0;32m    595\u001b[0m parent \u001b[38;5;241m=\u001b[39m Path(path)\u001b[38;5;241m.\u001b[39mparent\n\u001b[0;32m    596\u001b[0m \u001b[38;5;28;01mif\u001b[39;00m \u001b[38;5;129;01mnot\u001b[39;00m parent\u001b[38;5;241m.\u001b[39mis_dir():\n\u001b[1;32m--> 597\u001b[0m     \u001b[38;5;28;01mraise\u001b[39;00m \u001b[38;5;167;01mOSError\u001b[39;00m(\u001b[38;5;124mrf\u001b[39m\u001b[38;5;124m\"\u001b[39m\u001b[38;5;124mCannot save file into a non-existent directory: \u001b[39m\u001b[38;5;124m'\u001b[39m\u001b[38;5;132;01m{\u001b[39;00mparent\u001b[38;5;132;01m}\u001b[39;00m\u001b[38;5;124m'\u001b[39m\u001b[38;5;124m\"\u001b[39m)\n",
      "\u001b[1;31mOSError\u001b[0m: Cannot save file into a non-existent directory: 'Data\\Train'"
     ]
    }
   ],
   "source": [
    "train_data.to_csv('Data/Train/train_data.csv')"
   ]
  },
  {
   "cell_type": "code",
   "execution_count": null,
   "id": "10de373f-8bc7-4500-838e-8f1c4272c028",
   "metadata": {},
   "outputs": [],
   "source": [
    "test_data.to_csv('Data/Test/test_data.csv')"
   ]
  },
  {
   "cell_type": "markdown",
   "id": "e9b0490a-7f24-4f40-9bfb-58c4613f3624",
   "metadata": {},
   "source": [
    "### Generating buy signals in the dataset "
   ]
  },
  {
   "cell_type": "code",
   "execution_count": null,
   "id": "7b582fea-7f3d-4dbd-98e0-c463c4bd1f5a",
   "metadata": {},
   "outputs": [],
   "source": [
    "import pandas as pd\n",
    "import talib as ta\n",
    "import matplotlib.pyplot as plt\n",
    "import warnings\n",
    "import numpy as np"
   ]
  },
  {
   "cell_type": "code",
   "execution_count": null,
   "id": "f083fef6-eb16-4931-8eae-ad18e665c434",
   "metadata": {},
   "outputs": [],
   "source": [
    "warnings.filterwarnings('ignore')"
   ]
  },
  {
   "cell_type": "code",
   "execution_count": null,
   "id": "b971b077-6ece-4678-836f-c79b48f38ef7",
   "metadata": {},
   "outputs": [],
   "source": [
    "df_train = pd.read_csv('Data/Train/train_data.csv')"
   ]
  },
  {
   "cell_type": "code",
   "execution_count": null,
   "id": "c43a5163-dacd-4af7-82f5-212b23264f76",
   "metadata": {},
   "outputs": [],
   "source": [
    "df_test = pd.read_csv('Data/Test/test_data.csv')"
   ]
  },
  {
   "cell_type": "code",
   "execution_count": null,
   "id": "0303fb85-a888-4d66-b8cf-fdb3deebd03b",
   "metadata": {},
   "outputs": [],
   "source": [
    "def Indicators(df):\n",
    "    df['rsi'] = ta.RSI(df['close'],9)\n",
    "    df['ema3'] = ta.EMA(df['rsi'],6)\n",
    "    df['wma'] = ta.WMA(df['rsi'],21)\n",
    "    df['atr'] = ta.ATR(df['high'] , df['low'] , df['close'],7)\n",
    "    return df"
   ]
  },
  {
   "cell_type": "code",
   "execution_count": null,
   "id": "9c9c2b87-3406-4670-9eb2-4f98185a470e",
   "metadata": {},
   "outputs": [],
   "source": [
    "df_train = Indicators(df_train)\n",
    "df_test = Indicators(df_test)"
   ]
  },
  {
   "cell_type": "code",
   "execution_count": null,
   "id": "95938028-9860-4ad4-8693-ee1612e3a7b5",
   "metadata": {},
   "outputs": [],
   "source": [
    "df_train.dropna(inplace=True)\n",
    "df_test.dropna(inplace=True)"
   ]
  },
  {
   "cell_type": "code",
   "execution_count": null,
   "id": "bb878f1a-aec4-43f5-9016-fb478fd5115b",
   "metadata": {},
   "outputs": [],
   "source": [
    "df_train.head()"
   ]
  },
  {
   "cell_type": "code",
   "execution_count": null,
   "id": "350359cc-f98a-44df-aa69-6f68e09d7e2c",
   "metadata": {},
   "outputs": [],
   "source": [
    "df_train.drop('Unnamed: 0',axis=1,inplace=True)"
   ]
  },
  {
   "cell_type": "code",
   "execution_count": null,
   "id": "8588e916-7e82-49f5-ba47-4017c617a5fd",
   "metadata": {},
   "outputs": [],
   "source": [
    "df_test.drop('Unnamed: 0',axis=1,inplace=True)"
   ]
  },
  {
   "cell_type": "code",
   "execution_count": null,
   "id": "bb59bb94-051c-41e6-a9bc-28b52c234b78",
   "metadata": {},
   "outputs": [],
   "source": [
    "df_train.head()"
   ]
  },
  {
   "cell_type": "code",
   "execution_count": null,
   "id": "c93ab65a-e00e-410a-b9d6-6218c26c33b9",
   "metadata": {},
   "outputs": [],
   "source": [
    "df_test.head()"
   ]
  },
  {
   "cell_type": "code",
   "execution_count": null,
   "id": "6e7735ff-062a-4567-8f37-be4156aa1c0d",
   "metadata": {},
   "outputs": [],
   "source": [
    "len(df_train),len(df_test)"
   ]
  },
  {
   "cell_type": "code",
   "execution_count": null,
   "id": "0d1ee657-3d89-470f-adc4-5f18dddc4722",
   "metadata": {},
   "outputs": [],
   "source": [
    "df_train['rsi'].iloc[0]"
   ]
  },
  {
   "cell_type": "code",
   "execution_count": null,
   "id": "811c78f5-4c63-4ab4-93c4-df544989b9ab",
   "metadata": {},
   "outputs": [],
   "source": [
    "def Generate_buy_signal(df):\n",
    "    df['buy_signal'] = 0\n",
    "    for i in range(1,len(df)):\n",
    "        if df['rsi'].iloc[i] >= df['ema3'].iloc[i] and df['ema3'].iloc[i] >= df['wma'].iloc[i]:\n",
    "            df['buy_signal'].iloc[i] = 1\n",
    "    return df"
   ]
  },
  {
   "cell_type": "code",
   "execution_count": null,
   "id": "9db4e15b-f948-4aea-a2b4-4a5bcd10710d",
   "metadata": {},
   "outputs": [],
   "source": [
    "df_train = Generate_buy_signal(df_train)"
   ]
  },
  {
   "cell_type": "code",
   "execution_count": null,
   "id": "9c2aa948-d7ba-4799-8608-4a965a9416ac",
   "metadata": {},
   "outputs": [],
   "source": [
    "df_train.head(10)"
   ]
  },
  {
   "cell_type": "code",
   "execution_count": null,
   "id": "3169293e-f532-4019-9da1-93a8d0dc9f87",
   "metadata": {},
   "outputs": [],
   "source": [
    "df_test = Generate_buy_signal(df_test)"
   ]
  },
  {
   "cell_type": "code",
   "execution_count": null,
   "id": "05e5a82d-a919-448a-9166-9a10ff65eda4",
   "metadata": {},
   "outputs": [],
   "source": [
    "df_test.head(10)"
   ]
  },
  {
   "cell_type": "code",
   "execution_count": null,
   "id": "ea901fb6-c8e4-46ba-a5e3-7f8b95e9c9b8",
   "metadata": {},
   "outputs": [],
   "source": [
    "len(df_train) , len(df_test)"
   ]
  },
  {
   "cell_type": "code",
   "execution_count": null,
   "id": "856c9f5f-160a-4f7b-aba4-25f343ab2b1f",
   "metadata": {},
   "outputs": [],
   "source": [
    "df_train.to_csv('Buy_Train_data_with_label.csv')"
   ]
  },
  {
   "cell_type": "code",
   "execution_count": null,
   "id": "1e33336e-3243-4356-bb8a-4953c8491d95",
   "metadata": {},
   "outputs": [],
   "source": [
    "df_test.to_csv('Buy_Test_data_with_label.csv')"
   ]
  },
  {
   "cell_type": "markdown",
   "id": "10fd95e7-893f-4aae-8a3b-bb2b1ae868f7",
   "metadata": {},
   "source": [
    "## Generating short sell signals for dataset"
   ]
  },
  {
   "cell_type": "code",
   "execution_count": null,
   "id": "1ad7e2a5-3b49-43e5-8c90-869ae14efce3",
   "metadata": {},
   "outputs": [],
   "source": [
    "df_train = pd.read_csv('Data/Train/train_data.csv')"
   ]
  },
  {
   "cell_type": "code",
   "execution_count": null,
   "id": "20d010c2-a800-46eb-bbea-ccb1dced5412",
   "metadata": {},
   "outputs": [],
   "source": [
    "df_test = pd.read_csv('Data/Test/test_data.csv')"
   ]
  },
  {
   "cell_type": "code",
   "execution_count": null,
   "id": "5c223e2f-3eef-483e-9a95-6072da9d2add",
   "metadata": {},
   "outputs": [],
   "source": [
    "def Indicators(df):\n",
    "    df['rsi'] = ta.RSI(df['close'],9)\n",
    "    df['ema3'] = ta.EMA(df['rsi'],6)\n",
    "    df['wma'] = ta.WMA(df['rsi'],21)\n",
    "    df['atr'] = ta.ATR(df['high'] , df['low'] , df['close'],7)\n",
    "    return df"
   ]
  },
  {
   "cell_type": "code",
   "execution_count": null,
   "id": "b51656c9-1f3d-4999-ba55-e9efc151fe19",
   "metadata": {},
   "outputs": [],
   "source": [
    "df_train = Indicators(df_train)"
   ]
  },
  {
   "cell_type": "code",
   "execution_count": null,
   "id": "e708ae8f-6bf3-4890-909e-eee454d00b30",
   "metadata": {},
   "outputs": [],
   "source": [
    "df_test = Indicators(df_test)"
   ]
  },
  {
   "cell_type": "code",
   "execution_count": null,
   "id": "b9a1c6d4-d4d1-480d-8a34-b146d55d08d2",
   "metadata": {},
   "outputs": [],
   "source": [
    "df_train.dropna(inplace=True)\n",
    "df_test.dropna(inplace=True)"
   ]
  },
  {
   "cell_type": "code",
   "execution_count": null,
   "id": "dbcbb082-32b6-48f3-bcd0-201f697fd4a9",
   "metadata": {},
   "outputs": [],
   "source": [
    "df_train.head()"
   ]
  },
  {
   "cell_type": "code",
   "execution_count": null,
   "id": "9fe29a1d-b18c-44cb-967a-27a9d5c14a14",
   "metadata": {},
   "outputs": [],
   "source": [
    "df_train.drop('Unnamed: 0',axis=1,inplace=True)"
   ]
  },
  {
   "cell_type": "code",
   "execution_count": null,
   "id": "056eb399-229f-4dbe-abbe-5bd0a1b0bc58",
   "metadata": {},
   "outputs": [],
   "source": [
    "df_test.drop('Unnamed: 0',axis=1,inplace=True)"
   ]
  },
  {
   "cell_type": "code",
   "execution_count": null,
   "id": "078e1958-34a9-413f-86e2-a4438b0e362c",
   "metadata": {},
   "outputs": [],
   "source": [
    "def Generate_Short_Sell_signals(df):\n",
    "    df['Sell_signal'] = 0\n",
    "    for i in range(1,len(df)):\n",
    "        if df['wma'].iloc[i] >= df['ema3'].iloc[i] and df['ema3'].iloc[i] >= df['rsi'].iloc[i]:\n",
    "            df['Sell_signal'].iloc[i] = -1\n",
    "    return df"
   ]
  },
  {
   "cell_type": "code",
   "execution_count": null,
   "id": "78abd8a6-8328-43a5-a67c-20bf8f0d1e9b",
   "metadata": {},
   "outputs": [],
   "source": [
    "df_train = Generate_Short_Sell_signals(df_train)"
   ]
  },
  {
   "cell_type": "code",
   "execution_count": null,
   "id": "715f6b52-3c06-4ee6-8d75-f9e8e178cb22",
   "metadata": {},
   "outputs": [],
   "source": [
    "df_test = Generate_Short_Sell_signals(df_test)"
   ]
  },
  {
   "cell_type": "code",
   "execution_count": null,
   "id": "29db66da-a91f-4c87-b6af-a5d60807712c",
   "metadata": {},
   "outputs": [],
   "source": [
    "df_train.to_csv('Sell_Train_data_with_label.csv')"
   ]
  },
  {
   "cell_type": "code",
   "execution_count": null,
   "id": "2ad42b8b-6458-4dec-a66a-e09015c95610",
   "metadata": {},
   "outputs": [],
   "source": [
    "df_test.to_csv('Sell_Test_data_with_label.csv')"
   ]
  },
  {
   "cell_type": "code",
   "execution_count": null,
   "id": "c420dae5-e871-48a2-984c-fdd4b1af94bd",
   "metadata": {},
   "outputs": [],
   "source": [
    "df_test.head(50)"
   ]
  },
  {
   "cell_type": "markdown",
   "id": "7f8a7bb6-5d24-4992-9c85-be402d22ea1a",
   "metadata": {},
   "source": [
    "## Now testing the models"
   ]
  },
  {
   "cell_type": "code",
   "execution_count": null,
   "id": "0237e0b1-b33d-4ace-9d4d-6870d7a6e5fc",
   "metadata": {},
   "outputs": [],
   "source": [
    "df1 = pd.read_csv('Buy_Train_data_with_label.csv')"
   ]
  },
  {
   "cell_type": "code",
   "execution_count": null,
   "id": "6587602c-8a32-431b-8233-c21968e0f41f",
   "metadata": {},
   "outputs": [],
   "source": [
    "df1.head()"
   ]
  },
  {
   "cell_type": "code",
   "execution_count": null,
   "id": "e8e327a1-70b3-458a-b1a8-c00d48377db1",
   "metadata": {},
   "outputs": [],
   "source": [
    "df2 = pd.read_csv('Sell_Train_data_with_label.csv')"
   ]
  },
  {
   "cell_type": "code",
   "execution_count": null,
   "id": "d7640a3c-f0b7-440c-8aa4-6bdb4cb115b2",
   "metadata": {},
   "outputs": [],
   "source": [
    "df3 = pd.read_csv('Buy_Test_data_with_label.csv')"
   ]
  },
  {
   "cell_type": "code",
   "execution_count": null,
   "id": "94c495cd-23c1-4a03-abd2-256cf8d313dd",
   "metadata": {},
   "outputs": [],
   "source": [
    "df4 = pd.read_csv('Sell_Test_data_with_label.csv')"
   ]
  },
  {
   "cell_type": "code",
   "execution_count": null,
   "id": "845a53bc-3ead-4251-8146-d3e266e2d7a4",
   "metadata": {},
   "outputs": [],
   "source": [
    "x1=df1.iloc[:,3:12]\n",
    "y1=df1.iloc[:,12]"
   ]
  },
  {
   "cell_type": "code",
   "execution_count": null,
   "id": "1085b734-99ff-443f-95c9-661e283441bd",
   "metadata": {},
   "outputs": [],
   "source": [
    "x1.head()"
   ]
  },
  {
   "cell_type": "code",
   "execution_count": null,
   "id": "0bf2c429-f195-4482-b8bd-8fb0ba30e795",
   "metadata": {},
   "outputs": [],
   "source": [
    "y1"
   ]
  },
  {
   "cell_type": "code",
   "execution_count": null,
   "id": "8c18b4b8-5046-49ef-b67e-a39761f7108c",
   "metadata": {},
   "outputs": [],
   "source": [
    "x2 = df2.iloc[:,3:12]\n",
    "y2 = df2.iloc[:,12]"
   ]
  },
  {
   "cell_type": "code",
   "execution_count": null,
   "id": "7a532816-cbd7-49a0-b1b0-0292b80c029f",
   "metadata": {},
   "outputs": [],
   "source": [
    "x3 = df3.iloc[:,3:12]\n",
    "y3 = df3.iloc[:,12]"
   ]
  },
  {
   "cell_type": "code",
   "execution_count": null,
   "id": "8ddf5170-bd7f-458f-8ec3-ec2a7079c600",
   "metadata": {},
   "outputs": [],
   "source": [
    "x4 = df4.iloc[:,3:12]\n",
    "y4 = df4.iloc[:,12]"
   ]
  },
  {
   "cell_type": "code",
   "execution_count": null,
   "id": "4072162c-d0b8-4c39-bde4-1e2b6d19adc1",
   "metadata": {},
   "outputs": [],
   "source": [
    "data={}"
   ]
  },
  {
   "cell_type": "markdown",
   "id": "544dbf30-b68f-4c85-a54a-ed5dceb2d40a",
   "metadata": {},
   "source": [
    "## Tried Different models to sell where the dataset fits"
   ]
  },
  {
   "cell_type": "markdown",
   "id": "124ec09d-fb12-44ae-993d-d4ee77006f0a",
   "metadata": {},
   "source": [
    "## SVC"
   ]
  },
  {
   "cell_type": "code",
   "execution_count": null,
   "id": "999bc985-299f-4de9-a6c5-dc8c61c0b188",
   "metadata": {},
   "outputs": [],
   "source": [
    "from sklearn.svm import SVC #SVC- support vector classifier\n",
    "svc_b=SVC()\n",
    "svc_s=SVC()"
   ]
  },
  {
   "cell_type": "code",
   "execution_count": null,
   "id": "9fb13ce2-8eaa-4b39-ae55-32b83574b460",
   "metadata": {},
   "outputs": [],
   "source": [
    "len(x1) , len(y1)"
   ]
  },
  {
   "cell_type": "code",
   "execution_count": null,
   "id": "7368fc90-b33d-4cf7-87ce-1d2645fb0cdf",
   "metadata": {},
   "outputs": [],
   "source": [
    "y1.head()"
   ]
  },
  {
   "cell_type": "code",
   "execution_count": null,
   "id": "795e117f-5084-4a7e-b03b-2b1a160caa70",
   "metadata": {},
   "outputs": [],
   "source": [
    "svc_b.fit(x1,y1)"
   ]
  },
  {
   "cell_type": "code",
   "execution_count": null,
   "id": "2d5d5948-e669-45da-aeb0-f20fce3e9a2a",
   "metadata": {},
   "outputs": [],
   "source": [
    "svc_b.score(x1,y1)"
   ]
  },
  {
   "cell_type": "code",
   "execution_count": null,
   "id": "2543ef7b-f5a0-4abc-8a30-f4f7847a2c2b",
   "metadata": {},
   "outputs": [],
   "source": [
    "svc_s.fit(x2,y2)"
   ]
  },
  {
   "cell_type": "code",
   "execution_count": null,
   "id": "31b74905-5a3e-4ab4-8614-2526f7f42a2a",
   "metadata": {},
   "outputs": [],
   "source": [
    "data['svc']=[svc_b.score(x3,y3),svc_s.score(x4,y4)]"
   ]
  },
  {
   "cell_type": "markdown",
   "id": "e2cf49fd-67c9-4f11-ac03-3d8b15509ecc",
   "metadata": {},
   "source": [
    "## Logistic Regression"
   ]
  },
  {
   "cell_type": "code",
   "execution_count": null,
   "id": "c962ca4b-dab2-4a7d-9f1d-56442b1627bc",
   "metadata": {},
   "outputs": [],
   "source": [
    "from sklearn.linear_model import LogisticRegression\n",
    "lr_b=LogisticRegression()\n",
    "lr_s=LogisticRegression()"
   ]
  },
  {
   "cell_type": "code",
   "execution_count": null,
   "id": "27e34625-be49-417c-80a8-ee2ae9db7b91",
   "metadata": {},
   "outputs": [],
   "source": [
    "lr_b.fit(x1,y1)"
   ]
  },
  {
   "cell_type": "code",
   "execution_count": null,
   "id": "145231ad-23b4-4811-be9a-298eb39b2846",
   "metadata": {},
   "outputs": [],
   "source": [
    "lr_s.fit(x2,y2)"
   ]
  },
  {
   "cell_type": "code",
   "execution_count": null,
   "id": "4f55fde4-9923-49f0-8640-459087adc3e4",
   "metadata": {},
   "outputs": [],
   "source": [
    "data['lr']=[lr_b.score(x3,y3),lr_s.score(x4,y4)]"
   ]
  },
  {
   "cell_type": "code",
   "execution_count": null,
   "id": "e2008f66-ad97-4939-9289-186fffb679c8",
   "metadata": {},
   "outputs": [],
   "source": [
    "lr_b.score(x3,y3)"
   ]
  },
  {
   "cell_type": "markdown",
   "id": "2950aa8f-07c9-4664-9a41-26aa0b104caf",
   "metadata": {},
   "source": [
    "## Decision Tree Classifier"
   ]
  },
  {
   "cell_type": "code",
   "execution_count": null,
   "id": "cedeb959-0811-44ac-b00f-165c112e9d4f",
   "metadata": {},
   "outputs": [],
   "source": [
    "from sklearn.tree import DecisionTreeClassifier\n",
    "dtc_b=DecisionTreeClassifier()\n",
    "dtc_s=DecisionTreeClassifier()"
   ]
  },
  {
   "cell_type": "code",
   "execution_count": null,
   "id": "70065a2d-38ed-49e1-836c-f84b036c0202",
   "metadata": {},
   "outputs": [],
   "source": [
    "dtc_b.fit(x1,y1)"
   ]
  },
  {
   "cell_type": "code",
   "execution_count": null,
   "id": "7af3c670-47d6-4259-a795-ba33564e740e",
   "metadata": {},
   "outputs": [],
   "source": [
    "dtc_s.fit(x2,y2)"
   ]
  },
  {
   "cell_type": "code",
   "execution_count": null,
   "id": "72c269b1-e8ca-49ed-b038-9dc93936646b",
   "metadata": {},
   "outputs": [],
   "source": [
    "data['dtc']=[dtc_b.score(x3,y3),dtc_s.score(x4,y4)]"
   ]
  },
  {
   "cell_type": "code",
   "execution_count": null,
   "id": "85918325-4c73-4b01-af50-61c290ca412f",
   "metadata": {},
   "outputs": [],
   "source": [
    "dtc_b.score(x3,y3)"
   ]
  },
  {
   "cell_type": "code",
   "execution_count": null,
   "id": "d912d2d5-976f-4cef-84c4-39d80f530c37",
   "metadata": {},
   "outputs": [],
   "source": [
    "data"
   ]
  },
  {
   "cell_type": "code",
   "execution_count": null,
   "id": "b0755b0a-e005-4f04-945f-5016e2f80342",
   "metadata": {},
   "outputs": [],
   "source": [
    "type(data.keys())"
   ]
  },
  {
   "cell_type": "markdown",
   "id": "effa738b-0b9a-4394-89f0-31f80b07e343",
   "metadata": {},
   "source": [
    "## Visualizing the accuracy comparison between different models"
   ]
  },
  {
   "cell_type": "code",
   "execution_count": null,
   "id": "5ca6d71a-a850-43fe-82fe-b56360ec7041",
   "metadata": {},
   "outputs": [],
   "source": [
    "import matplotlib.pyplot as plt\n",
    "models = (data.keys())\n",
    "performances = (data.values())\n",
    "\n",
    "fig, ax = plt.subplots()\n",
    "bar_width = 0.35\n",
    "index = range(len(models))\n",
    "\n",
    "bars1 = ax.bar(index, [perf[0] for perf in performances], bar_width, label='Buy')\n",
    "\n",
    "bars2 = ax.bar([i + bar_width for i in index], [perf[1] for perf in performances], bar_width, label='Sell')\n",
    "\n",
    "ax.set_xlabel('Models')\n",
    "ax.set_ylabel('Performance')\n",
    "ax.set_title('Accuracy of different models on buy and sell dataset')\n",
    "ax.set_xticks([i + bar_width / 2 for i in index])\n",
    "ax.set_xticklabels(models)\n",
    "ax.set_ylim(0, 1)\n",
    "ax.legend()\n",
    "\n",
    "plt.show()"
   ]
  },
  {
   "cell_type": "code",
   "execution_count": null,
   "id": "f8f2705e-bd76-419f-8d69-65a3811d2f65",
   "metadata": {},
   "outputs": [],
   "source": [
    "list_buy = dtc_b.predict(x3)"
   ]
  },
  {
   "cell_type": "code",
   "execution_count": null,
   "id": "08c859c1-0518-4fd1-8ba8-598de96e19ef",
   "metadata": {},
   "outputs": [],
   "source": [
    "len(list_buy)"
   ]
  },
  {
   "cell_type": "code",
   "execution_count": null,
   "id": "6dc9adcc-eb41-4241-9531-bf4e3cc195b5",
   "metadata": {},
   "outputs": [],
   "source": [
    "list_sell = dtc_s.predict(x4)"
   ]
  },
  {
   "cell_type": "code",
   "execution_count": null,
   "id": "b71c308a-caa8-4753-b1d3-65c13460bb96",
   "metadata": {},
   "outputs": [],
   "source": [
    "len(list_sell)"
   ]
  },
  {
   "cell_type": "markdown",
   "id": "ad0635ed-26b8-4f36-9c41-ac88172a5f8c",
   "metadata": {},
   "source": [
    "## Merging the Buy and Sell signals"
   ]
  },
  {
   "cell_type": "code",
   "execution_count": null,
   "id": "36e59bc7-a4db-45ce-bd75-de77446fa27a",
   "metadata": {},
   "outputs": [],
   "source": [
    "df1 = pd.read_csv('Buy_test_data_with_label.csv')"
   ]
  },
  {
   "cell_type": "code",
   "execution_count": null,
   "id": "b71c011a-bc50-46d6-86a6-cbdfc1bf0b24",
   "metadata": {},
   "outputs": [],
   "source": [
    "df1.head()"
   ]
  },
  {
   "cell_type": "code",
   "execution_count": null,
   "id": "56b47334-e048-4f00-8ab4-1b8cfd164d5c",
   "metadata": {},
   "outputs": [],
   "source": [
    "df_temp = pd.read_csv('Sell_Test_data_with_label.csv')"
   ]
  },
  {
   "cell_type": "code",
   "execution_count": null,
   "id": "8570eaa2",
   "metadata": {},
   "outputs": [],
   "source": [
    "len(df_temp)"
   ]
  },
  {
   "cell_type": "code",
   "execution_count": null,
   "id": "e92453d6",
   "metadata": {},
   "outputs": [],
   "source": [
    "df_temp.head()"
   ]
  },
  {
   "cell_type": "code",
   "execution_count": null,
   "id": "a9bd189e-526f-4e00-a69b-d529da342bd1",
   "metadata": {},
   "outputs": [],
   "source": [
    "df1 = pd.DataFrame()"
   ]
  },
  {
   "cell_type": "code",
   "execution_count": null,
   "id": "c358ecf3-3ff4-4eeb-8960-a322934f35fc",
   "metadata": {},
   "outputs": [],
   "source": [
    "df2 = pd.DataFrame()"
   ]
  },
  {
   "cell_type": "code",
   "execution_count": null,
   "id": "94d43f94-a6a0-41a8-9a41-20a2c65dbbd0",
   "metadata": {},
   "outputs": [],
   "source": [
    "df1['buy_signal'] = list_buy"
   ]
  },
  {
   "cell_type": "code",
   "execution_count": null,
   "id": "3a599af0-94fc-417a-970d-58cba2478cbd",
   "metadata": {},
   "outputs": [],
   "source": [
    "len(df1) , len(df_temp)"
   ]
  },
  {
   "cell_type": "code",
   "execution_count": null,
   "id": "0c2e81da-9b27-45b0-bf44-2340f13dec2c",
   "metadata": {},
   "outputs": [],
   "source": [
    "df1['datetime'] = df_temp['datetime']"
   ]
  },
  {
   "cell_type": "code",
   "execution_count": null,
   "id": "c07d10c8-979b-4e57-9300-5a62d7225940",
   "metadata": {},
   "outputs": [],
   "source": [
    "df2['Sell_signal'] = list_sell"
   ]
  },
  {
   "cell_type": "code",
   "execution_count": null,
   "id": "96ff86f0-3461-4397-b4fd-eb5c49a6f96b",
   "metadata": {},
   "outputs": [],
   "source": [
    "'''long == -1 not inmarket , long = 1 , that is long trade is going on and long = 0 short trade is going on'''\n",
    "def merge(df1,df2):\n",
    "    list = [0]*len(df1)\n",
    "    long = -1\n",
    "    inmarket = 0\n",
    "    for i in range(len(df1)):\n",
    "        # print(df1['datetime'][p],df2['datetime'][p])\n",
    "        if inmarket == 0:\n",
    "            if df1['buy_signal'][i] == 1 and df2['Sell_signal'][i] == -1:\n",
    "                continue\n",
    "            elif df1['buy_signal'][i] == 0 and df2['Sell_signal'][i]==0:\n",
    "                continue\n",
    "            elif df1['buy_signal'][i] == 1:\n",
    "                inmarket = 1\n",
    "                long = 1\n",
    "                list[i] = 1\n",
    "            elif df2['Sell_signal'][i] == -1:\n",
    "                inmarket = 1\n",
    "                long = 0\n",
    "                list[i] = -1\n",
    "        elif inmarket == 1:\n",
    "            if long == 1:\n",
    "                if df1['buy_signal'][i] == 0 or df2['Sell_signal'][i] ==-1:\n",
    "                    inmarket = 0\n",
    "                    long = -1\n",
    "                    list[i] = -1\n",
    "            elif long == 0:\n",
    "                if df1['buy_signal'][i] == 1 or df2['Sell_signal'][i] == 0:\n",
    "                    inmarket = 0\n",
    "                    long = -1\n",
    "                    list[i] = 1\n",
    "    return list"
   ]
  },
  {
   "cell_type": "code",
   "execution_count": null,
   "id": "4508bfe0",
   "metadata": {},
   "outputs": [],
   "source": [
    "# below cell contain merge function to merge buy and sell signal"
   ]
  },
  {
   "cell_type": "code",
   "execution_count": null,
   "id": "62c0adb0-7c7f-4855-9d8f-1482890dde62",
   "metadata": {},
   "outputs": [],
   "source": [
    "signals = merge(df1,df2)"
   ]
  },
  {
   "cell_type": "code",
   "execution_count": null,
   "id": "6d82a4c0-9b7c-456c-b76d-a9064c106e14",
   "metadata": {},
   "outputs": [],
   "source": [
    "signals"
   ]
  },
  {
   "cell_type": "code",
   "execution_count": null,
   "id": "64043c3f",
   "metadata": {},
   "outputs": [],
   "source": [
    "df1.head()"
   ]
  },
  {
   "cell_type": "code",
   "execution_count": null,
   "id": "6e336b32",
   "metadata": {},
   "outputs": [],
   "source": [
    "df2.head()"
   ]
  },
  {
   "cell_type": "code",
   "execution_count": null,
   "id": "9c07a766-5501-4ab1-a17e-3000155ad185",
   "metadata": {},
   "outputs": [],
   "source": [
    "df = pd.DataFrame()"
   ]
  },
  {
   "cell_type": "code",
   "execution_count": null,
   "id": "18bd8130-12eb-4397-aa4b-d5ceab431568",
   "metadata": {},
   "outputs": [],
   "source": [
    "df['datetime'] = df1['datetime']"
   ]
  },
  {
   "cell_type": "code",
   "execution_count": null,
   "id": "149628a7-6536-47ab-b865-30721c03c877",
   "metadata": {},
   "outputs": [],
   "source": [
    "df['buy_signal'] = df1['buy_signal']"
   ]
  },
  {
   "cell_type": "code",
   "execution_count": null,
   "id": "6a347332-a93c-4093-8116-c12c18d1f131",
   "metadata": {},
   "outputs": [],
   "source": [
    "df['sell_signal'] = df2['Sell_signal']"
   ]
  },
  {
   "cell_type": "code",
   "execution_count": null,
   "id": "6b1ba858",
   "metadata": {},
   "outputs": [],
   "source": [
    "df['open'] = df_temp['open']"
   ]
  },
  {
   "cell_type": "code",
   "execution_count": null,
   "id": "191bf4b1",
   "metadata": {},
   "outputs": [],
   "source": [
    "df['close'] = df_temp['close']"
   ]
  },
  {
   "cell_type": "code",
   "execution_count": null,
   "id": "762bae4a",
   "metadata": {},
   "outputs": [],
   "source": [
    "df['high'] = df_temp['high']"
   ]
  },
  {
   "cell_type": "code",
   "execution_count": null,
   "id": "293f44dc",
   "metadata": {},
   "outputs": [],
   "source": [
    "df['low'] = df_temp['low']"
   ]
  },
  {
   "cell_type": "code",
   "execution_count": null,
   "id": "1406b8f7",
   "metadata": {},
   "outputs": [],
   "source": [
    "df['volume'] = df_temp['volume']"
   ]
  },
  {
   "cell_type": "code",
   "execution_count": null,
   "id": "f117fe79-f55b-4f31-8e25-f3d6fb9cf08a",
   "metadata": {},
   "outputs": [],
   "source": [
    "df['signals'] = signals"
   ]
  },
  {
   "cell_type": "code",
   "execution_count": null,
   "id": "c357ecb4-160a-4c5b-acf2-54ce079e80fb",
   "metadata": {},
   "outputs": [],
   "source": [
    "df.head()"
   ]
  },
  {
   "cell_type": "code",
   "execution_count": null,
   "id": "e3cf00b8-8bce-42f9-bdc4-308c4421b2f8",
   "metadata": {},
   "outputs": [],
   "source": [
    "df.to_csv('Long-Short-Signals.csv')"
   ]
  },
  {
   "cell_type": "code",
   "execution_count": null,
   "id": "84a31370-7199-4276-bafb-0b293510f074",
   "metadata": {},
   "outputs": [],
   "source": [
    "df.head(50)"
   ]
  },
  {
   "cell_type": "markdown",
   "id": "3b975b93-81a0-4f31-8ccd-af923e43d3d7",
   "metadata": {},
   "source": [
    "## Checking the backtested results\n",
    "The actual results of the backtesting code would be far greater than the result shown, as the rate in which money increase is far greater than the result atleast 10X of the shown result\n",
    "The actual calculation includes the involvement of concepts like option greeks , strike price and all , that may change the centre of the project"
   ]
  },
  {
   "cell_type": "markdown",
   "id": "b72bea2c-086b-4193-bbe7-239af61d0a02",
   "metadata": {},
   "source": [
    "1. Number of Trades (done)\n",
    "2. Number of long Trades (done)\n",
    "3. Number of Short Trades (done)\n",
    "4. Win Rate (done)\n",
    "5. Number of profitable Trades (done)\n",
    "6. Number of long profitable Trades (done)\n",
    "7. Number of short profitable Trades (done)\n",
    "8. Total returns   (done)\n",
    "9. Returns from long trades (done)\n",
    "10. Returns from short trades (done)"
   ]
  },
  {
   "cell_type": "code",
   "execution_count": null,
   "id": "c86c100a-2ff6-4037-aea1-5e844dafe799",
   "metadata": {},
   "outputs": [],
   "source": [
    "df = pd.read_csv('Long-Short-Signals.csv')"
   ]
  },
  {
   "cell_type": "code",
   "execution_count": null,
   "id": "4529e730",
   "metadata": {},
   "outputs": [],
   "source": [
    "len(df)"
   ]
  },
  {
   "cell_type": "code",
   "execution_count": null,
   "id": "25afa15b-9fee-4aed-b524-978645dfe9c2",
   "metadata": {},
   "outputs": [],
   "source": [
    "df.head()"
   ]
  },
  {
   "cell_type": "code",
   "execution_count": null,
   "id": "ef841e30-0e20-49b5-8789-8d069adc4615",
   "metadata": {},
   "outputs": [],
   "source": [
    "df.set_index('datetime',inplace=True)"
   ]
  },
  {
   "cell_type": "code",
   "execution_count": null,
   "id": "585774b0-e59e-4844-88a5-533d2ef78b83",
   "metadata": {},
   "outputs": [],
   "source": [
    "df.head()"
   ]
  },
  {
   "cell_type": "code",
   "execution_count": null,
   "id": "ac512f52-4162-4aa9-9ede-2bcfa889df3f",
   "metadata": {},
   "outputs": [],
   "source": [
    "def SumColumn(df):\n",
    "    df['sum'] = 0\n",
    "    df['sum'][0] = df['signals'][0]\n",
    "    for i in range(1,len(df)):\n",
    "        df['sum'][i] = df['sum'][i-1] + df['signals'][i]\n",
    "    return df"
   ]
  },
  {
   "cell_type": "code",
   "execution_count": null,
   "id": "d81c7ae2-0a65-4dac-ac76-5b5e5d5d761f",
   "metadata": {},
   "outputs": [],
   "source": [
    "df = SumColumn(df)"
   ]
  },
  {
   "cell_type": "code",
   "execution_count": null,
   "id": "e1d49afd-ec0c-47c2-9088-1a04ff47f1c1",
   "metadata": {},
   "outputs": [],
   "source": [
    "df.head(50)"
   ]
  },
  {
   "cell_type": "code",
   "execution_count": null,
   "id": "20d396b9-d57b-47e8-ba4a-bc0ba00a2876",
   "metadata": {},
   "outputs": [],
   "source": [
    "def NumOfTrades(df):\n",
    "    total = 0\n",
    "    long = 0\n",
    "    short = 0\n",
    "    for i in range(len(df)):\n",
    "        if df['signals'][i] == 1 and df['sum'][i] == 1:\n",
    "            long += 1\n",
    "        if df['signals'][i] == -1 and df['sum'][i] == -1:\n",
    "            short += 1\n",
    "    return long , short , long+ short"
   ]
  },
  {
   "cell_type": "code",
   "execution_count": null,
   "id": "edca2176-a253-41e9-84ee-464ef954dbca",
   "metadata": {},
   "outputs": [],
   "source": [
    "long_trades , short_trades , total_trades = NumOfTrades(df)"
   ]
  },
  {
   "cell_type": "code",
   "execution_count": null,
   "id": "c85270b9-dfe3-4193-90a5-2722147f14a0",
   "metadata": {},
   "outputs": [],
   "source": [
    "long_trades,short_trades,total_trades"
   ]
  },
  {
   "cell_type": "code",
   "execution_count": null,
   "id": "c7c409f3-2367-4d91-a362-3798b11c5f36",
   "metadata": {},
   "outputs": [],
   "source": [
    "df_full = pd.read_csv('Buy_Train_data_with_label.csv')"
   ]
  },
  {
   "cell_type": "code",
   "execution_count": null,
   "id": "e265e0c4-b74c-45bb-ab83-804213b53c4a",
   "metadata": {},
   "outputs": [],
   "source": [
    "df_full.head(2)"
   ]
  },
  {
   "cell_type": "code",
   "execution_count": null,
   "id": "b801bdf5",
   "metadata": {},
   "outputs": [],
   "source": [
    "df_full.isna().sum()"
   ]
  },
  {
   "cell_type": "code",
   "execution_count": null,
   "id": "711969bc",
   "metadata": {},
   "outputs": [],
   "source": [
    "len(df) , len(df_full)"
   ]
  },
  {
   "cell_type": "code",
   "execution_count": null,
   "id": "c1c4dae7-145a-4aa6-8003-7dc35c3f79b1",
   "metadata": {},
   "outputs": [],
   "source": [
    "# df['open'] = df_full['open']\n",
    "# df['close'] = df_full['close']\n",
    "# df['low'] = df_full['low']\n",
    "# df['high'] = df_full['high']\n",
    "# df['volume'] = df_full['volume']"
   ]
  },
  {
   "cell_type": "code",
   "execution_count": null,
   "id": "ed3608d3",
   "metadata": {},
   "outputs": [],
   "source": [
    "df.head()"
   ]
  },
  {
   "cell_type": "code",
   "execution_count": null,
   "id": "7659f538-0069-4510-ba6b-2ad72cb92511",
   "metadata": {},
   "outputs": [],
   "source": [
    "for i in range(len(df)):\n",
    "    df['open'][i] = df_full['open'][i]\n",
    "    df['close'][i] = df_full['close'][i]"
   ]
  },
  {
   "cell_type": "code",
   "execution_count": null,
   "id": "f8d54258-cdde-43cd-bf51-e975778f8694",
   "metadata": {},
   "outputs": [],
   "source": [
    "# initital is the amount \n",
    "def long_return(df , initial):\n",
    "    profit = 0\n",
    "    entry = -1\n",
    "    long_profit_trades = 0\n",
    "    max_profit = 0\n",
    "    list = []\n",
    "    df['long_returns'] = -1\n",
    "    for i in range(len(df)):\n",
    "        if df['sum'][i] == 1 and df['signals'][i] == 1:\n",
    "            entry = df['open'][i]\n",
    "        elif df['sum'][i]==0 and df['signals'][i] == -1:\n",
    "            final = (df['close'][i]/entry)*initial\n",
    "            df['long_returns'][i] = (final-initial)/initial\n",
    "            profit += (final-initial)\n",
    "            list.append(final-initial)\n",
    "            max_profit = max(max_profit , final-initial)\n",
    "            if( final > initial ):\n",
    "                long_profit_trades += 1\n",
    "    return profit , long_profit_trades , max_profit , list ,  df"
   ]
  },
  {
   "cell_type": "code",
   "execution_count": null,
   "id": "201f20c7-ac29-442e-9f67-94e975e9291e",
   "metadata": {},
   "outputs": [],
   "source": [
    "total_long_profit , Num_long_profit_trades , max_long_profit , list ,  df = long_return(df , 1000)"
   ]
  },
  {
   "cell_type": "code",
   "execution_count": null,
   "id": "0e75e036-b3dd-47ac-9f8b-b2ab3da22514",
   "metadata": {},
   "outputs": [],
   "source": [
    "total_long_profit , Num_long_profit_trades , max_long_profit"
   ]
  },
  {
   "cell_type": "code",
   "execution_count": null,
   "id": "10ba0bc6-7ac4-48ad-baf5-d0869534f71e",
   "metadata": {},
   "outputs": [],
   "source": [
    "list"
   ]
  },
  {
   "cell_type": "code",
   "execution_count": null,
   "id": "87abbce9-d0e5-41a5-b405-ffbbba508d54",
   "metadata": {},
   "outputs": [],
   "source": [
    "def short_return(df , initial):\n",
    "    profit = 0\n",
    "    entry = -1\n",
    "    short_profit_trades = 0\n",
    "    max_profit = 0\n",
    "    list = []\n",
    "    df['short_returns'] = -1\n",
    "    for i in range(len(df)):\n",
    "        if df['sum'][i] == -1 and df['signals'][i] == -1:\n",
    "            entry = df['open'][i]\n",
    "        elif df['sum'][i] == 0 and df['signals'][i] == 1:\n",
    "            final = (df['close'][i]/entry)*initial\n",
    "            profit += (initial-final)\n",
    "            df['short_returns'][i] = profit/initial\n",
    "            list.append(initial-final)\n",
    "            max_profit = max(max_profit , initial-final)\n",
    "            if initial > final :\n",
    "                short_profit_trades += 1\n",
    "    return profit , short_profit_trades , max_profit , list , df\n",
    "            "
   ]
  },
  {
   "cell_type": "code",
   "execution_count": null,
   "id": "93127dfb-f1a5-4e56-ad77-f3fb91157317",
   "metadata": {},
   "outputs": [],
   "source": [
    "total_short_profit , Num_short_profit_trades , short_max_profit , list , df = short_return(df , 1000)"
   ]
  },
  {
   "cell_type": "code",
   "execution_count": null,
   "id": "cbbe3c05-89eb-4ddd-871d-531e5ff7e3d0",
   "metadata": {},
   "outputs": [],
   "source": [
    "total_short_profit , Num_short_profit_trades , short_max_profit "
   ]
  },
  {
   "cell_type": "code",
   "execution_count": null,
   "id": "ce9e63cd-de62-44a8-ae27-7256fcee5cb9",
   "metadata": {},
   "outputs": [],
   "source": [
    "def win_rate(long_trades , short_trades , Num_long_profit_trades , Num_short_profit_trades ):\n",
    "    long_win_rate = Num_long_profit_trades/long_trades\n",
    "    short_win_rate = Num_short_profit_trades/short_trades\n",
    "    win_rate = (Num_long_profit_trades+Num_short_profit_trades)/(long_trades+short_trades)\n",
    "    return long_win_rate , short_win_rate , win_rate"
   ]
  },
  {
   "cell_type": "code",
   "execution_count": null,
   "id": "b81a8d14-9e83-433f-a573-7d26c55fce19",
   "metadata": {},
   "outputs": [],
   "source": [
    "long_win_rate , short_win_rate , win_rate = win_rate(long_trades , short_trades , Num_long_profit_trades , Num_short_profit_trades )"
   ]
  },
  {
   "cell_type": "code",
   "execution_count": null,
   "id": "488de072-1a5a-484c-9f5b-f4d66934c976",
   "metadata": {},
   "outputs": [],
   "source": [
    "long_win_rate , short_win_rate , win_rate"
   ]
  },
  {
   "cell_type": "code",
   "execution_count": null,
   "id": "7ec55825",
   "metadata": {},
   "outputs": [],
   "source": [
    "df.head()"
   ]
  },
  {
   "cell_type": "code",
   "execution_count": null,
   "id": "060dc05a-e8f6-4f65-a9b4-c8ffe9f18d3a",
   "metadata": {},
   "outputs": [],
   "source": [
    "df.to_csv('Data_for_backtesting.csv')"
   ]
  },
  {
   "cell_type": "markdown",
   "id": "410b778d-2d5d-4dca-8a36-afff4962ad02",
   "metadata": {},
   "source": [
    "## Using Backtesting module"
   ]
  },
  {
   "cell_type": "code",
   "execution_count": null,
   "id": "c0d9f4c3-56b6-442e-bf1a-9672992a8904",
   "metadata": {},
   "outputs": [],
   "source": [
    "from backtesting import Backtest, Strategy"
   ]
  },
  {
   "cell_type": "code",
   "execution_count": null,
   "id": "39286a80-ea2e-4d87-9c8c-58b3b45f4647",
   "metadata": {},
   "outputs": [],
   "source": [
    "df = pd.read_csv('Data_for_backtesting.csv')"
   ]
  },
  {
   "cell_type": "code",
   "execution_count": null,
   "id": "20b37619-49c0-476d-9ab6-2bf75ec9298e",
   "metadata": {},
   "outputs": [],
   "source": [
    "df['Close'] = df['close']\n",
    "df['Open'] = df['open']\n",
    "df['Low'] = df['low']\n",
    "df['High'] = df['high']\n",
    "df['Volume'] = df['volume']\n",
    "df['Open'] /= 1e6\n",
    "df['High'] /= 1e6\n",
    "df['Low'] /= 1e6\n",
    "df['Close'] /= 1e6"
   ]
  },
  {
   "cell_type": "code",
   "execution_count": null,
   "id": "6dfe953b-dd34-4443-9094-d5e01a839bb3",
   "metadata": {},
   "outputs": [],
   "source": [
    "df.head()"
   ]
  },
  {
   "cell_type": "code",
   "execution_count": null,
   "id": "516af237-b7c7-41bb-b83b-15320f702d70",
   "metadata": {},
   "outputs": [],
   "source": [
    "class MyStrat(Strategy):\n",
    "    def init(self):\n",
    "        pass\n",
    "    def next(self):\n",
    "        if self.data['sum'] == 0:\n",
    "            self.position.close()\n",
    "        elif self.data['signals'] == -1 and self.data['sum'] == -1:\n",
    "            self.sell()\n",
    "        elif self.data['signals'] == 1 and self.data['sum'] == 1:\n",
    "            self.buy()\n"
   ]
  },
  {
   "cell_type": "code",
   "execution_count": null,
   "id": "712c3e73-2b20-44d1-958b-e800c1f3f453",
   "metadata": {},
   "outputs": [],
   "source": [
    "bt = Backtest(df, MyStrat, cash=1000, commission=0.001,trade_on_close=True)\n",
    "result = bt.run()\n",
    "bt.plot(superimpose=True)"
   ]
  },
  {
   "cell_type": "code",
   "execution_count": null,
   "id": "90df3d8e-57e1-4bb5-bc5e-76683217422e",
   "metadata": {},
   "outputs": [],
   "source": []
  },
  {
   "cell_type": "code",
   "execution_count": null,
   "id": "8860d891",
   "metadata": {},
   "outputs": [],
   "source": []
  }
 ],
 "metadata": {
  "kernelspec": {
   "display_name": "Python 3 (ipykernel)",
   "language": "python",
   "name": "python3"
  },
  "language_info": {
   "codemirror_mode": {
    "name": "ipython",
    "version": 3
   },
   "file_extension": ".py",
   "mimetype": "text/x-python",
   "name": "python",
   "nbconvert_exporter": "python",
   "pygments_lexer": "ipython3",
   "version": "3.11.4"
  }
 },
 "nbformat": 4,
 "nbformat_minor": 5
}
