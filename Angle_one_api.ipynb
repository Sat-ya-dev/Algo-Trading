{
 "cells": [
  {
   "cell_type": "code",
   "execution_count": 2,
   "id": "63e139d4",
   "metadata": {},
   "outputs": [
    {
     "name": "stderr",
     "output_type": "stream",
     "text": [
      "fatal: destination path 'smartapi-python' already exists and is not an empty directory.\n"
     ]
    }
   ],
   "source": [
    "!git clone \"https://github.com/angel-one/smartapi-python.git\""
   ]
  },
  {
   "cell_type": "code",
   "execution_count": 3,
   "id": "e21a17ae-f053-44bf-a6e2-8523dc83668d",
   "metadata": {},
   "outputs": [
    {
     "name": "stdout",
     "output_type": "stream",
     "text": [
      "Requirement already satisfied: attrs==23.1.0 in c:\\users\\hp\\anaconda3\\envs\\crypto\\lib\\site-packages (from -r ./smartapi-python/requirements_dev.txt (line 1)) (23.1.0)\n",
      "Collecting autobahn==23.6.2 (from -r ./smartapi-python/requirements_dev.txt (line 2))\n",
      "  Using cached autobahn-23.6.2-cp310-cp310-win_amd64.whl\n",
      "Collecting Automat==22.10.0 (from -r ./smartapi-python/requirements_dev.txt (line 3))\n",
      "  Using cached Automat-22.10.0-py2.py3-none-any.whl.metadata (1.0 kB)\n",
      "Collecting certifi==2023.5.7 (from -r ./smartapi-python/requirements_dev.txt (line 4))\n",
      "  Using cached certifi-2023.5.7-py3-none-any.whl.metadata (2.2 kB)\n",
      "Requirement already satisfied: cffi==1.15.1 in c:\\users\\hp\\anaconda3\\envs\\crypto\\lib\\site-packages (from -r ./smartapi-python/requirements_dev.txt (line 5)) (1.15.1)\n",
      "Collecting charset-normalizer==3.1.0 (from -r ./smartapi-python/requirements_dev.txt (line 6))\n",
      "  Using cached charset_normalizer-3.1.0-cp310-cp310-win_amd64.whl.metadata (31 kB)\n",
      "Collecting constantly==15.1.0 (from -r ./smartapi-python/requirements_dev.txt (line 7))\n",
      "  Using cached constantly-15.1.0-py2.py3-none-any.whl.metadata (1.2 kB)\n",
      "Collecting cryptography==41.0.1 (from -r ./smartapi-python/requirements_dev.txt (line 8))\n",
      "  Using cached cryptography-41.0.1-cp37-abi3-win_amd64.whl.metadata (5.3 kB)\n",
      "Collecting hyperlink==21.0.0 (from -r ./smartapi-python/requirements_dev.txt (line 9))\n",
      "  Using cached hyperlink-21.0.0-py2.py3-none-any.whl.metadata (1.5 kB)\n",
      "Requirement already satisfied: idna==3.4 in c:\\users\\hp\\anaconda3\\envs\\crypto\\lib\\site-packages (from -r ./smartapi-python/requirements_dev.txt (line 10)) (3.4)\n",
      "Collecting incremental==22.10.0 (from -r ./smartapi-python/requirements_dev.txt (line 11))\n",
      "  Using cached incremental-22.10.0-py2.py3-none-any.whl.metadata (6.0 kB)\n",
      "Collecting isodate==0.6.1 (from -r ./smartapi-python/requirements_dev.txt (line 12))\n",
      "  Using cached isodate-0.6.1-py2.py3-none-any.whl.metadata (9.6 kB)\n",
      "Collecting logzero==1.7.0 (from -r ./smartapi-python/requirements_dev.txt (line 13))\n",
      "  Downloading logzero-1.7.0-py2.py3-none-any.whl.metadata (11 kB)\n",
      "Requirement already satisfied: pycparser==2.21 in c:\\users\\hp\\anaconda3\\envs\\crypto\\lib\\site-packages (from -r ./smartapi-python/requirements_dev.txt (line 14)) (2.21)\n",
      "Collecting pycrypto==2.6.1 (from -r ./smartapi-python/requirements_dev.txt (line 15))\n",
      "  Using cached pycrypto-2.6.1.tar.gz (446 kB)\n",
      "  Preparing metadata (setup.py): started\n",
      "  Preparing metadata (setup.py): finished with status 'done'\n",
      "Collecting pyotp==2.8.0 (from -r ./smartapi-python/requirements_dev.txt (line 16))\n",
      "  Using cached pyotp-2.8.0-py3-none-any.whl.metadata (8.8 kB)\n",
      "Collecting pyparsing==3.1.0 (from -r ./smartapi-python/requirements_dev.txt (line 17))\n",
      "  Using cached pyparsing-3.1.0-py3-none-any.whl.metadata (4.9 kB)\n",
      "Requirement already satisfied: python-dateutil==2.8.2 in c:\\users\\hp\\anaconda3\\envs\\crypto\\lib\\site-packages (from -r ./smartapi-python/requirements_dev.txt (line 18)) (2.8.2)\n",
      "Collecting pytz==2023.3 (from -r ./smartapi-python/requirements_dev.txt (line 19))\n",
      "  Using cached pytz-2023.3-py2.py3-none-any.whl.metadata (22 kB)\n",
      "Collecting rdflib==6.3.2 (from -r ./smartapi-python/requirements_dev.txt (line 20))\n",
      "  Using cached rdflib-6.3.2-py3-none-any.whl.metadata (11 kB)\n",
      "Collecting rdflib-jsonld==0.6.2 (from -r ./smartapi-python/requirements_dev.txt (line 21))\n",
      "  Using cached rdflib_jsonld-0.6.2-py2.py3-none-any.whl.metadata (3.4 kB)\n",
      "Requirement already satisfied: requests==2.31.0 in c:\\users\\hp\\anaconda3\\envs\\crypto\\lib\\site-packages (from -r ./smartapi-python/requirements_dev.txt (line 22)) (2.31.0)\n",
      "Collecting simplejson==3.19.1 (from -r ./smartapi-python/requirements_dev.txt (line 23))\n",
      "  Using cached simplejson-3.19.1-cp310-cp310-win_amd64.whl.metadata (3.1 kB)\n",
      "Requirement already satisfied: six==1.16.0 in c:\\users\\hp\\anaconda3\\envs\\crypto\\lib\\site-packages (from -r ./smartapi-python/requirements_dev.txt (line 24)) (1.16.0)\n",
      "Collecting smartapi-python==1.4.8 (from -r ./smartapi-python/requirements_dev.txt (line 25))\n",
      "  Using cached smartapi_python-1.4.8-py3-none-any.whl.metadata (7.6 kB)\n",
      "Collecting Twisted==22.10.0 (from -r ./smartapi-python/requirements_dev.txt (line 26))\n",
      "  Using cached Twisted-22.10.0-py3-none-any.whl.metadata (15 kB)\n",
      "Collecting txaio==23.1.1 (from -r ./smartapi-python/requirements_dev.txt (line 27))\n",
      "  Using cached txaio-23.1.1-py2.py3-none-any.whl.metadata (5.4 kB)\n",
      "Collecting typing_extensions==4.6.3 (from -r ./smartapi-python/requirements_dev.txt (line 28))\n",
      "  Using cached typing_extensions-4.6.3-py3-none-any.whl.metadata (2.8 kB)\n",
      "Collecting urllib3==2.0.3 (from -r ./smartapi-python/requirements_dev.txt (line 29))\n",
      "  Using cached urllib3-2.0.3-py3-none-any.whl.metadata (6.6 kB)\n",
      "Collecting websocket-client==1.6.0 (from -r ./smartapi-python/requirements_dev.txt (line 30))\n",
      "  Using cached websocket_client-1.6.0-py3-none-any.whl.metadata (7.6 kB)\n",
      "Collecting zope.interface==6.0 (from -r ./smartapi-python/requirements_dev.txt (line 31))\n",
      "  Using cached zope.interface-6.0-cp310-cp310-win_amd64.whl.metadata (42 kB)\n",
      "Requirement already satisfied: setuptools in c:\\users\\hp\\anaconda3\\envs\\crypto\\lib\\site-packages (from autobahn==23.6.2->-r ./smartapi-python/requirements_dev.txt (line 2)) (68.0.0)\n",
      "Requirement already satisfied: colorama in c:\\users\\hp\\anaconda3\\envs\\crypto\\lib\\site-packages (from logzero==1.7.0->-r ./smartapi-python/requirements_dev.txt (line 13)) (0.4.6)\n",
      "Collecting twisted-iocpsupport<2,>=1.0.2 (from Twisted==22.10.0->-r ./smartapi-python/requirements_dev.txt (line 26))\n",
      "  Using cached twisted_iocpsupport-1.0.4-cp310-cp310-win_amd64.whl.metadata (2.2 kB)\n",
      "Using cached Automat-22.10.0-py2.py3-none-any.whl (26 kB)\n",
      "Using cached certifi-2023.5.7-py3-none-any.whl (156 kB)\n",
      "Using cached charset_normalizer-3.1.0-cp310-cp310-win_amd64.whl (97 kB)\n",
      "Using cached constantly-15.1.0-py2.py3-none-any.whl (7.9 kB)\n",
      "Using cached cryptography-41.0.1-cp37-abi3-win_amd64.whl (2.6 MB)\n",
      "Using cached hyperlink-21.0.0-py2.py3-none-any.whl (74 kB)\n",
      "Using cached incremental-22.10.0-py2.py3-none-any.whl (16 kB)\n",
      "Using cached isodate-0.6.1-py2.py3-none-any.whl (41 kB)\n",
      "Using cached logzero-1.7.0-py2.py3-none-any.whl (16 kB)\n",
      "Using cached pyotp-2.8.0-py3-none-any.whl (12 kB)\n",
      "Using cached pyparsing-3.1.0-py3-none-any.whl (102 kB)\n",
      "Using cached pytz-2023.3-py2.py3-none-any.whl (502 kB)\n",
      "Using cached rdflib-6.3.2-py3-none-any.whl (528 kB)\n",
      "Using cached rdflib_jsonld-0.6.2-py2.py3-none-any.whl (4.0 kB)\n",
      "Using cached simplejson-3.19.1-cp310-cp310-win_amd64.whl (75 kB)\n",
      "Using cached smartapi_python-1.4.8-py3-none-any.whl (28 kB)\n",
      "Using cached Twisted-22.10.0-py3-none-any.whl (3.1 MB)\n",
      "Using cached txaio-23.1.1-py2.py3-none-any.whl (30 kB)\n",
      "Using cached typing_extensions-4.6.3-py3-none-any.whl (31 kB)\n",
      "Using cached urllib3-2.0.3-py3-none-any.whl (123 kB)\n",
      "Using cached websocket_client-1.6.0-py3-none-any.whl (56 kB)\n",
      "Using cached zope.interface-6.0-cp310-cp310-win_amd64.whl (204 kB)\n",
      "Using cached twisted_iocpsupport-1.0.4-cp310-cp310-win_amd64.whl (46 kB)\n",
      "Building wheels for collected packages: pycrypto\n",
      "  Building wheel for pycrypto (setup.py): started\n",
      "  Building wheel for pycrypto (setup.py): finished with status 'error'\n",
      "  Running setup.py clean for pycrypto\n",
      "Failed to build pycrypto\n"
     ]
    },
    {
     "name": "stderr",
     "output_type": "stream",
     "text": [
      "  error: subprocess-exited-with-error\n",
      "  \n",
      "  python setup.py bdist_wheel did not run successfully.\n",
      "  exit code: 1\n",
      "  \n",
      "  [2 lines of output]\n",
      "  warning: GMP or MPIR library not found; Not building Crypto.PublicKey._fastmath.\n",
      "  error: Microsoft Visual C++ 14.0 or greater is required. Get it with \"Microsoft C++ Build Tools\": https://visualstudio.microsoft.com/visual-cpp-build-tools/\n",
      "  [end of output]\n",
      "  \n",
      "  note: This error originates from a subprocess, and is likely not a problem with pip.\n",
      "  ERROR: Failed building wheel for pycrypto\n",
      "ERROR: Could not build wheels for pycrypto, which is required to install pyproject.toml-based projects\n"
     ]
    }
   ],
   "source": [
    "!pip install -r ./smartapi-python/requirements_dev.txt"
   ]
  },
  {
   "cell_type": "code",
   "execution_count": 13,
   "id": "5c7e1b61-48f0-4213-828e-bb9867e33f1c",
   "metadata": {},
   "outputs": [],
   "source": [
    "from SmartApi import SmartConnect #or from SmartApi.smartConnect import SmartConnect\n",
    "import pyotp\n",
    "from logzero import logger"
   ]
  },
  {
   "cell_type": "code",
   "execution_count": 14,
   "id": "5f122e62-ea24-4281-8e00-db8e19fc8689",
   "metadata": {},
   "outputs": [],
   "source": [
    "api_key = ''\n",
    "username = ''\n",
    "pwd = ''\n",
    "smartApi = SmartConnect(api_key)"
   ]
  },
  {
   "cell_type": "code",
   "execution_count": 15,
   "id": "d42e70a2-9495-4497-9400-5ac7617996c6",
   "metadata": {},
   "outputs": [],
   "source": [
    "totp_value = open('TOTP_key.txt',\"r\").read()"
   ]
  },
  {
   "cell_type": "code",
   "execution_count": 16,
   "id": "feb130f1-6b12-439d-bb1a-6cbd2efaf397",
   "metadata": {},
   "outputs": [
    {
     "data": {
      "text/plain": [
       "'2ILIRHL7GL2KNRWNUMQYU2QAAM'"
      ]
     },
     "execution_count": 16,
     "metadata": {},
     "output_type": "execute_result"
    }
   ],
   "source": [
    "totp_value"
   ]
  },
  {
   "cell_type": "code",
   "execution_count": 17,
   "id": "7608a177-d6a9-4187-aa70-b2a7396cf348",
   "metadata": {},
   "outputs": [],
   "source": [
    "try:\n",
    "    # token = \"2ILIRHL7GL2KNRWNUMQYU2QAAM\"\n",
    "    token = str(totp_value)\n",
    "    totp = pyotp.TOTP(token).now()\n",
    "except Exception as e:\n",
    "    logger.error(\"Invalid Token: The provided token is not valid.\")\n",
    "    raise e"
   ]
  },
  {
   "cell_type": "code",
   "execution_count": 18,
   "id": "868199bb-d26e-4047-b2e0-a440f1a8e788",
   "metadata": {},
   "outputs": [],
   "source": [
    "correlation_id = \"abcde\"\n",
    "data = smartApi.generateSession(username, pwd, totp)"
   ]
  },
  {
   "cell_type": "code",
   "execution_count": null,
   "id": "c5e895b6-1f2b-40cf-a2c0-6d04ce0666bc",
   "metadata": {},
   "outputs": [],
   "source": [
    "data"
   ]
  },
  {
   "cell_type": "code",
   "execution_count": 20,
   "id": "00ca9dba-9257-49d0-8898-d4f6d7f156a2",
   "metadata": {},
   "outputs": [],
   "source": [
    "if data['status'] == False:\n",
    "    logger.error(data)\n",
    "else:\n",
    "    # login api call\n",
    "    # logger.info(f\"You Credentials: {data}\")\n",
    "    authToken = data['data']['jwtToken']\n",
    "    refreshToken = data['data']['refreshToken']\n",
    "    # fetch the feedtoken\n",
    "    feedToken = smartApi.getfeedToken()\n",
    "    # fetch User Profile\n",
    "    res = smartApi.getProfile(refreshToken)\n",
    "    smartApi.generateToken(refreshToken)\n",
    "    res1=res['data']['exchanges']"
   ]
  },
  {
   "cell_type": "code",
   "execution_count": 21,
   "id": "2a4ab19e-79ef-4b7d-bca8-746891005002",
   "metadata": {},
   "outputs": [
    {
     "data": {
      "text/plain": [
       "['nse_fo', 'nse_cm', 'cde_fo', 'ncx_fo', 'bse_fo', 'bse_cm', 'mcx_fo']"
      ]
     },
     "execution_count": 21,
     "metadata": {},
     "output_type": "execute_result"
    }
   ],
   "source": [
    "res1 "
   ]
  },
  {
   "cell_type": "code",
   "execution_count": 22,
   "id": "156a632f-dc31-4bf1-9290-440e6719bb1d",
   "metadata": {},
   "outputs": [
    {
     "name": "stderr",
     "output_type": "stream",
     "text": [
      "[I 240515 11:12:26 566526955:34] PlaceOrder : 240515000678356\n",
      "[I 240515 11:12:27 566526955:37] PlaceOrder : {'status': True, 'message': 'SUCCESS', 'errorcode': '', 'data': {'script': 'SBIN-EQ', 'orderid': '240515000678388', 'uniqueorderid': '915367dc-2b71-4f9e-a533-1f3ff44f8a0d'}}\n"
     ]
    }
   ],
   "source": [
    "if data['status'] == False:\n",
    "    logger.error(data)\n",
    "    \n",
    "else:\n",
    "    # login api call\n",
    "    # logger.info(f\"You Credentials: {data}\")\n",
    "    authToken = data['data']['jwtToken']\n",
    "    refreshToken = data['data']['refreshToken']\n",
    "    # fetch the feedtoken\n",
    "    feedToken = smartApi.getfeedToken()\n",
    "    # fetch User Profile\n",
    "    res = smartApi.getProfile(refreshToken)\n",
    "    smartApi.generateToken(refreshToken)\n",
    "    res=res['data']['exchanges']\n",
    "\n",
    "    #place order\n",
    "    try:\n",
    "        orderparams = {\n",
    "            \"variety\": \"NORMAL\",\n",
    "            \"tradingsymbol\": \"SBIN-EQ\",\n",
    "            \"symboltoken\": \"3045\",\n",
    "            \"transactiontype\": \"SELL\",\n",
    "            \"exchange\": \"NSE\",\n",
    "            \"ordertype\": \"LIMIT\",\n",
    "            \"producttype\": \"INTRADAY\",\n",
    "            \"duration\": \"DAY\",\n",
    "            \"price\": \"19500\",\n",
    "            \"squareoff\": \"0\",\n",
    "            \"stoploss\": \"0\",\n",
    "            \"quantity\": \"1\"\n",
    "            }\n",
    "        # Method 1: Place an order and return the order ID\n",
    "        orderid = smartApi.placeOrder(orderparams)\n",
    "        logger.info(f\"PlaceOrder : {orderid}\")\n",
    "        # Method 2: Place an order and return the full response\n",
    "        response = smartApi.placeOrderFullResponse(orderparams)\n",
    "        logger.info(f\"PlaceOrder : {response}\")\n",
    "    except Exception as e:\n",
    "        logger.exception(f\"Order placement failed: {e}\")"
   ]
  },
  {
   "cell_type": "code",
   "execution_count": 11,
   "id": "9b4af699-4aa7-444b-8cc3-c75b58f0809b",
   "metadata": {},
   "outputs": [],
   "source": [
    " try:\n",
    "        historicParam={\n",
    "        \"exchange\": \"NSE\",\n",
    "        \"symboltoken\": \"3045\",\n",
    "        \"interval\": \"ONE_MINUTE\",\n",
    "        \"fromdate\": \"2021-02-08 09:00\", \n",
    "        \"todate\": \"2021-02-08 09:16\"\n",
    "        }\n",
    "        x = smartApi.getCandleData(historicParam)\n",
    "except Exception as e:\n",
    "        logger.exception(f\"Historic Api failed: {e}\")"
   ]
  },
  {
   "cell_type": "code",
   "execution_count": 12,
   "id": "6938ee7a-2c8f-487f-976e-8e794729ba09",
   "metadata": {},
   "outputs": [
    {
     "data": {
      "text/plain": [
       "{'status': True,\n",
       " 'message': 'SUCCESS',\n",
       " 'errorcode': '',\n",
       " 'data': [['2021-02-08T09:15:00+05:30', 398.0, 403.45, 397.3, 401.85, 2609877],\n",
       "  ['2021-02-08T09:16:00+05:30', 402.15, 403.0, 401.45, 401.75, 1470752]]}"
      ]
     },
     "execution_count": 12,
     "metadata": {},
     "output_type": "execute_result"
    }
   ],
   "source": [
    "x"
   ]
  },
  {
   "cell_type": "code",
   "execution_count": null,
   "id": "0b2f68fc-cbae-4dba-960a-278ddb1f8643",
   "metadata": {},
   "outputs": [],
   "source": [
    "data"
   ]
  },
  {
   "cell_type": "code",
   "execution_count": null,
   "id": "40bc6a5a-c1dc-4ed1-9de1-fc21164f56ed",
   "metadata": {},
   "outputs": [],
   "source": []
  }
 ],
 "metadata": {
  "kernelspec": {
   "display_name": "Python 3 (ipykernel)",
   "language": "python",
   "name": "python3"
  },
  "language_info": {
   "codemirror_mode": {
    "name": "ipython",
    "version": 3
   },
   "file_extension": ".py",
   "mimetype": "text/x-python",
   "name": "python",
   "nbconvert_exporter": "python",
   "pygments_lexer": "ipython3",
   "version": "3.10.13"
  }
 },
 "nbformat": 4,
 "nbformat_minor": 5
}
